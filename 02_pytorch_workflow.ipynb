{
  "nbformat": 4,
  "nbformat_minor": 0,
  "metadata": {
    "colab": {
      "provenance": [],
      "gpuType": "T4",
      "authorship_tag": "ABX9TyPluCP8tajemSYOJY0ytuDd",
      "include_colab_link": true
    },
    "kernelspec": {
      "name": "python3",
      "display_name": "Python 3"
    },
    "language_info": {
      "name": "python"
    },
    "accelerator": "GPU"
  },
  "cells": [
    {
      "cell_type": "markdown",
      "metadata": {
        "id": "view-in-github",
        "colab_type": "text"
      },
      "source": [
        "<a href=\"https://colab.research.google.com/github/Rajaanthonysamy/PyTorch/blob/main/02_pytorch_workflow.ipynb\" target=\"_parent\"><img src=\"https://colab.research.google.com/assets/colab-badge.svg\" alt=\"Open In Colab\"/></a>"
      ]
    },
    {
      "cell_type": "markdown",
      "source": [
        "# PyTorch Workflow end-to-end"
      ],
      "metadata": {
        "id": "A9l3YmMkQzH_"
      }
    },
    {
      "cell_type": "code",
      "source": [
        "import torch\n",
        "from torch import nn ## nn contains all workflow of the pytorch building block neural network"
      ],
      "metadata": {
        "id": "QcradVB2Qyro"
      },
      "execution_count": 2,
      "outputs": []
    },
    {
      "cell_type": "code",
      "source": [
        "import matplotlib.pyplot as plt"
      ],
      "metadata": {
        "id": "Z8BkXlbiQ8rv"
      },
      "execution_count": 3,
      "outputs": []
    },
    {
      "cell_type": "code",
      "source": [
        "torch.__version__"
      ],
      "metadata": {
        "colab": {
          "base_uri": "https://localhost:8080/",
          "height": 56
        },
        "id": "0p6EJ8rBQ8pV",
        "outputId": "b170e9ed-1e45-41e6-b790-0c6169f5d0a1"
      },
      "execution_count": 4,
      "outputs": [
        {
          "output_type": "execute_result",
          "data": {
            "text/plain": [
              "'2.8.0+cu126'"
            ],
            "application/vnd.google.colaboratory.intrinsic+json": {
              "type": "string"
            }
          },
          "metadata": {},
          "execution_count": 4
        }
      ]
    },
    {
      "cell_type": "markdown",
      "source": [
        "Data Preparing and loading\n",
        "\n",
        "data can be anything in machine learning\n"
      ],
      "metadata": {
        "id": "dGOnSD6cSI9s"
      }
    },
    {
      "cell_type": "code",
      "source": [
        "weight = 0.7\n",
        "bias = 0.3\n",
        "\n",
        "start = 0\n",
        "end = 1\n",
        "step = 0.02\n",
        "X = torch.arange(start, end, step).unsqueeze(dim=1)\n",
        "y = weight * X + bias\n",
        "\n"
      ],
      "metadata": {
        "id": "Mz4i-EUvQ8mu"
      },
      "execution_count": 5,
      "outputs": []
    },
    {
      "cell_type": "markdown",
      "source": [
        "## SPlit data train test"
      ],
      "metadata": {
        "id": "KgVQErrWVcFm"
      }
    },
    {
      "cell_type": "code",
      "source": [
        "X.size()"
      ],
      "metadata": {
        "colab": {
          "base_uri": "https://localhost:8080/"
        },
        "id": "hVonXSscQ8j7",
        "outputId": "26faad89-9d40-4e22-d366-c916d51d3c5c"
      },
      "execution_count": 6,
      "outputs": [
        {
          "output_type": "execute_result",
          "data": {
            "text/plain": [
              "torch.Size([50, 1])"
            ]
          },
          "metadata": {},
          "execution_count": 6
        }
      ]
    },
    {
      "cell_type": "code",
      "source": [
        "train_split = int(0.8 * len(X))\n",
        "X_train, y_train = X[:train_split], y[:train_split]\n",
        "X_test, y_test = X[train_split:], y[train_split:]"
      ],
      "metadata": {
        "id": "umCzraZcQ8hR"
      },
      "execution_count": 7,
      "outputs": []
    },
    {
      "cell_type": "code",
      "source": [
        "train_split"
      ],
      "metadata": {
        "colab": {
          "base_uri": "https://localhost:8080/"
        },
        "id": "-mgcXFIKQ8ep",
        "outputId": "180263d6-ff0d-4875-8257-06a25fc2ff45"
      },
      "execution_count": 8,
      "outputs": [
        {
          "output_type": "execute_result",
          "data": {
            "text/plain": [
              "40"
            ]
          },
          "metadata": {},
          "execution_count": 8
        }
      ]
    },
    {
      "cell_type": "code",
      "source": [
        "plt.figure(figsize=(10,7))\n",
        "plt.scatter(X_train, y_train, c=\"b\", s=10, label=\"training data\")\n",
        "plt.scatter(X_test, y_test, c=\"g\", s=4, label=\"testing data\")"
      ],
      "metadata": {
        "colab": {
          "base_uri": "https://localhost:8080/",
          "height": 637
        },
        "id": "MgKptb5gQ8cH",
        "outputId": "ace2a704-5b2c-4700-af71-67cdd6d64275"
      },
      "execution_count": 9,
      "outputs": [
        {
          "output_type": "execute_result",
          "data": {
            "text/plain": [
              "<matplotlib.collections.PathCollection at 0x7941aaafc4a0>"
            ]
          },
          "metadata": {},
          "execution_count": 9
        },
        {
          "output_type": "display_data",
          "data": {
            "text/plain": [
              "<Figure size 1000x700 with 1 Axes>"
            ],
            "image/png": "[encoded data removed]"
          },
          "metadata": {}
        }
      ]
    },
    {
      "cell_type": "code",
      "source": [
        "def plot_prediction(train_data= X_train , train_labels=y_train , test_data=X_test , test_labels=y_test , predictions=None):\n",
        "  \"\"\"Plots training data , test data and compares predictions\"\"\"\n",
        "  plt.figure(figsize=(10,7))\n",
        "  plt.scatter(train_data, train_labels, c=\"b\", s=4, label=\"training data\")\n",
        "  plt.scatter(test_data, test_labels, c=\"g\", s=4, label=\"testing data\")\n",
        "\n",
        "  if predictions is not None:\n",
        "    plt.scatter(test_data, predictions, c=\"r\", s=4, label=\"predictions\")\n",
        "\n",
        "  plt.legend(prop={\"size\":14})"
      ],
      "metadata": {
        "id": "unjwB3ZTQ8Zt"
      },
      "execution_count": 10,
      "outputs": []
    },
    {
      "cell_type": "code",
      "source": [
        "pred=torch.rand(10,1)"
      ],
      "metadata": {
        "id": "Ir5yGfsZQ8W5"
      },
      "execution_count": 11,
      "outputs": []
    },
    {
      "cell_type": "code",
      "source": [
        "pred.size()"
      ],
      "metadata": {
        "colab": {
          "base_uri": "https://localhost:8080/"
        },
        "id": "pdkP6z_nQ8UP",
        "outputId": "05ef2734-2588-40e1-e0ae-d180d3eb8d1c"
      },
      "execution_count": 12,
      "outputs": [
        {
          "output_type": "execute_result",
          "data": {
            "text/plain": [
              "torch.Size([10, 1])"
            ]
          },
          "metadata": {},
          "execution_count": 12
        }
      ]
    },
    {
      "cell_type": "code",
      "source": [
        "pred"
      ],
      "metadata": {
        "colab": {
          "base_uri": "https://localhost:8080/"
        },
        "id": "Y9lQrivLbkdm",
        "outputId": "42fe2e68-2b20-46b4-9a1e-0a1e891cec75"
      },
      "execution_count": 13,
      "outputs": [
        {
          "output_type": "execute_result",
          "data": {
            "text/plain": [
              "tensor([[0.3722],\n",
              "        [0.0031],\n",
              "        [0.2986],\n",
              "        [0.6557],\n",
              "        [0.2398],\n",
              "        [0.1414],\n",
              "        [0.6800],\n",
              "        [0.1193],\n",
              "        [0.4677],\n",
              "        [0.7335]])"
            ]
          },
          "metadata": {},
          "execution_count": 13
        }
      ]
    },
    {
      "cell_type": "code",
      "source": [
        "X_test.size()"
      ],
      "metadata": {
        "colab": {
          "base_uri": "https://localhost:8080/"
        },
        "id": "IqClsbJyQ8RY",
        "outputId": "c572c4f4-358c-4847-95e0-b5b2aba6480e"
      },
      "execution_count": 14,
      "outputs": [
        {
          "output_type": "execute_result",
          "data": {
            "text/plain": [
              "torch.Size([10, 1])"
            ]
          },
          "metadata": {},
          "execution_count": 14
        }
      ]
    },
    {
      "cell_type": "code",
      "source": [
        "pred.size()"
      ],
      "metadata": {
        "colab": {
          "base_uri": "https://localhost:8080/"
        },
        "id": "geAgdfzUQ8Ok",
        "outputId": "336a8ad8-bf71-4552-9ad0-dbc9f892ad4b"
      },
      "execution_count": 15,
      "outputs": [
        {
          "output_type": "execute_result",
          "data": {
            "text/plain": [
              "torch.Size([10, 1])"
            ]
          },
          "metadata": {},
          "execution_count": 15
        }
      ]
    },
    {
      "cell_type": "code",
      "source": [
        "plot_prediction(predictions=pred)"
      ],
      "metadata": {
        "colab": {
          "base_uri": "https://localhost:8080/",
          "height": 620
        },
        "id": "yd-g3Ez9Q8MK",
        "outputId": "f6a36ee4-d671-4fd1-d26a-4b2ff354fac6"
      },
      "execution_count": 16,
      "outputs": [
        {
          "output_type": "display_data",
          "data": {
            "text/plain": [
              "<Figure size 1000x700 with 1 Axes>"
            ],
            "image/png": "[encoded data removed]"
          },
          "metadata": {}
        }
      ]
    },
    {
      "cell_type": "code",
      "source": [
        "pred= torch.arange(0,1,0.1)"
      ],
      "metadata": {
        "id": "deqW_s1KQ8J0"
      },
      "execution_count": 17,
      "outputs": []
    },
    {
      "cell_type": "code",
      "source": [
        "pred"
      ],
      "metadata": {
        "colab": {
          "base_uri": "https://localhost:8080/"
        },
        "id": "WV8VJmxGccck",
        "outputId": "e4c6271d-94ee-46a2-cd7d-242a3752af57"
      },
      "execution_count": 18,
      "outputs": [
        {
          "output_type": "execute_result",
          "data": {
            "text/plain": [
              "tensor([0.0000, 0.1000, 0.2000, 0.3000, 0.4000, 0.5000, 0.6000, 0.7000, 0.8000,\n",
              "        0.9000])"
            ]
          },
          "metadata": {},
          "execution_count": 18
        }
      ]
    },
    {
      "cell_type": "code",
      "source": [
        "pred=pred * weight + bias"
      ],
      "metadata": {
        "id": "J2f_w4CoQ8HR"
      },
      "execution_count": 19,
      "outputs": []
    },
    {
      "cell_type": "code",
      "source": [
        "pred"
      ],
      "metadata": {
        "colab": {
          "base_uri": "https://localhost:8080/"
        },
        "id": "6O45mVXdQ8E4",
        "outputId": "3ae1386a-8797-4376-8c6e-770551f15aa6"
      },
      "execution_count": 20,
      "outputs": [
        {
          "output_type": "execute_result",
          "data": {
            "text/plain": [
              "tensor([0.3000, 0.3700, 0.4400, 0.5100, 0.5800, 0.6500, 0.7200, 0.7900, 0.8600,\n",
              "        0.9300])"
            ]
          },
          "metadata": {},
          "execution_count": 20
        }
      ]
    },
    {
      "cell_type": "code",
      "source": [
        "plot_prediction(predictions=pred)"
      ],
      "metadata": {
        "colab": {
          "base_uri": "https://localhost:8080/",
          "height": 620
        },
        "id": "F0o4nP-0Q8CV",
        "outputId": "f3eef528-1d51-4cda-f443-28c68066b209"
      },
      "execution_count": 21,
      "outputs": [
        {
          "output_type": "display_data",
          "data": {
            "text/plain": [
              "<Figure size 1000x700 with 1 Axes>"
            ],
            "image/png": "[encoded data removed]"
          },
          "metadata": {}
        }
      ]
    },
    {
      "cell_type": "markdown",
      "source": [
        "## Build Linear model"
      ],
      "metadata": {
        "id": "TxRR2ptMdNU_"
      }
    },
    {
      "cell_type": "code",
      "source": [
        "class LinearModel(nn.Module):\n",
        "  def __init__(self):\n",
        "    super().__init__()\n",
        "    self.weights= nn.Parameter(torch.randn(\n",
        "        1,requires_grad=True, dtype=torch.float\n",
        "    ))\n",
        "    self.bias= nn.Parameter(torch.rand(\n",
        "        1,  requires_grad=True, dtype=torch.float\n",
        "    ))\n",
        "\n",
        "### forward method define the computation in the model\n",
        "  def forward(self,x:torch.Tensor) -> torch.Tensor:   ### have to override the model when use subclass nn.module\n",
        "    return self.weights * x + self.bias"
      ],
      "metadata": {
        "id": "1Z7j-aCrQ7_7"
      },
      "execution_count": 31,
      "outputs": []
    },
    {
      "cell_type": "markdown",
      "source": [
        "# Pytorch model building essentials\n",
        "\n",
        "torch.nn - computational graaph for model building (a neural network can be considered as a computational graph)\n",
        "\n",
        "torch.nn.Parameter - what parameters should our model try and learn, often a PyTorch layer from torch.nn will set for us\n",
        "\n",
        "torch.nn.Module - Base class for the all neural network module, we should overide the forward method\n",
        "\n",
        "torch.optim - this is where the optimizers in pytorch live , they will help with gradient descent\n",
        "\n",
        "def forward() - all nn.Module subclasses require you to overwrite forward(), this method defines what happens in the forward computation\n"
      ],
      "metadata": {
        "id": "sYnGpAa5GR95"
      }
    },
    {
      "cell_type": "markdown",
      "source": [
        "--------------------------------------------------------------------\n",
        "\n",
        "\n",
        "PyTorch module\tWhat does it do?\n",
        "torch.nn\tContains all of the building blocks for computational graphs (essentially a series of computations executed in a particular way).\n",
        "\n",
        "torch.nn.Parameter\tStores tensors that can be used with nn.Module. If requires_grad=True gradients (used for updating model parameters via gradient descent) are calculated automatically, this is often referred to as \"autograd\".\n",
        "\n",
        "torch.nn.Module\tThe base class for all neural network modules, all the building blocks for neural networks are subclasses. If you're building a neural network in PyTorch, your models should subclass nn.Module. Requires a forward() method be implemented.\n",
        "\n",
        "torch.optim\tContains various optimization algorithms (these tell the model parameters stored in nn.Parameter how to best change to improve gradient descent and in turn reduce the loss).\n",
        "\n",
        "\n",
        "def forward()\tAll nn.Module subclasses require a forward() method, this defines the computation that will take place on the data passed to the particular nn.Module (e.g. the linear regression formula above)."
      ],
      "metadata": {
        "id": "53nEaNNwIJNa"
      }
    },
    {
      "cell_type": "code",
      "source": [
        "torch.manual_seed(42)\n",
        "\n",
        "model_0 = LinearModel()\n",
        "list(model_0.parameters())"
      ],
      "metadata": {
        "colab": {
          "base_uri": "https://localhost:8080/"
        },
        "id": "jPJOyjSZQ79l",
        "outputId": "bc9b5dfb-0f9c-4246-c81a-0c22619888f2"
      },
      "execution_count": 35,
      "outputs": [
        {
          "output_type": "execute_result",
          "data": {
            "text/plain": [
              "[Parameter containing:\n",
              " tensor([0.3367], requires_grad=True),\n",
              " Parameter containing:\n",
              " tensor([0.3904], requires_grad=True)]"
            ]
          },
          "metadata": {},
          "execution_count": 35
        }
      ]
    },
    {
      "cell_type": "code",
      "source": [
        "model_0.state_dict()"
      ],
      "metadata": {
        "colab": {
          "base_uri": "https://localhost:8080/"
        },
        "id": "aEe9RWUfQ76w",
        "outputId": "ab80d8f2-8648-4bf4-d341-c4a4e9c7c4f7"
      },
      "execution_count": 36,
      "outputs": [
        {
          "output_type": "execute_result",
          "data": {
            "text/plain": [
              "OrderedDict([('weights', tensor([0.3367])), ('bias', tensor([0.3904]))])"
            ]
          },
          "metadata": {},
          "execution_count": 36
        }
      ]
    },
    {
      "cell_type": "code",
      "source": [
        "weight,bias"
      ],
      "metadata": {
        "colab": {
          "base_uri": "https://localhost:8080/"
        },
        "id": "63p8jOEmQ73h",
        "outputId": "358ae65e-6bfb-4735-e8dd-85d2a406d3b8"
      },
      "execution_count": 38,
      "outputs": [
        {
          "output_type": "execute_result",
          "data": {
            "text/plain": [
              "(0.7, 0.3)"
            ]
          },
          "metadata": {},
          "execution_count": 38
        }
      ]
    },
    {
      "cell_type": "code",
      "source": [
        "### making prediction usingh torch.inference_mode()\n",
        "\n",
        "## to chk our model predictive power lets see how well it predicts y_test based on X_test\n",
        "\n",
        "## when we pass data throgh our model, its going to run it through the forward() method\n",
        "\n"
      ],
      "metadata": {
        "id": "npqFHPPFQ7vV"
      },
      "execution_count": 40,
      "outputs": []
    },
    {
      "cell_type": "code",
      "source": [
        "with torch.inference_mode():\n",
        "  y_preds = model_0(X_test)"
      ],
      "metadata": {
        "id": "j2MA3iGRF6hU"
      },
      "execution_count": 41,
      "outputs": []
    },
    {
      "cell_type": "code",
      "source": [
        "y_preds_without_with = model_0(X_test)\n",
        "y_preds_without_with #### when we didnt use with bloack that time it will track the gradient so it will make the computation slower\n",
        "#### when model training is happening that time use the with block to track the gradient\n",
        "## when its prediction mode that time use the with block for computation speed thetime it wont calculate the  gradient tracking"
      ],
      "metadata": {
        "colab": {
          "base_uri": "https://localhost:8080/"
        },
        "id": "1dQrPeFhNtON",
        "outputId": "6ccb2b44-b7ca-4c50-b5b4-0ea301e9381a"
      },
      "execution_count": 47,
      "outputs": [
        {
          "output_type": "execute_result",
          "data": {
            "text/plain": [
              "tensor([[0.6598],\n",
              "        [0.6665],\n",
              "        [0.6733],\n",
              "        [0.6800],\n",
              "        [0.6867],\n",
              "        [0.6935],\n",
              "        [0.7002],\n",
              "        [0.7069],\n",
              "        [0.7137],\n",
              "        [0.7204]], grad_fn=<AddBackward0>)"
            ]
          },
          "metadata": {},
          "execution_count": 47
        }
      ]
    },
    {
      "cell_type": "code",
      "source": [
        "y_preds"
      ],
      "metadata": {
        "colab": {
          "base_uri": "https://localhost:8080/"
        },
        "id": "aHLKzXowF6et",
        "outputId": "e90b25fa-b9c2-405f-d4c3-fe49abef65f8"
      },
      "execution_count": 48,
      "outputs": [
        {
          "output_type": "execute_result",
          "data": {
            "text/plain": [
              "tensor([[0.6598],\n",
              "        [0.6665],\n",
              "        [0.6733],\n",
              "        [0.6800],\n",
              "        [0.6867],\n",
              "        [0.6935],\n",
              "        [0.7002],\n",
              "        [0.7069],\n",
              "        [0.7137],\n",
              "        [0.7204]])"
            ]
          },
          "metadata": {},
          "execution_count": 48
        }
      ]
    },
    {
      "cell_type": "code",
      "source": [
        "y_test"
      ],
      "metadata": {
        "colab": {
          "base_uri": "https://localhost:8080/"
        },
        "id": "HCmJV_McF6cH",
        "outputId": "4d68781b-63c2-432e-8400-f4951d5b9876"
      },
      "execution_count": 43,
      "outputs": [
        {
          "output_type": "execute_result",
          "data": {
            "text/plain": [
              "tensor([[0.8600],\n",
              "        [0.8740],\n",
              "        [0.8880],\n",
              "        [0.9020],\n",
              "        [0.9160],\n",
              "        [0.9300],\n",
              "        [0.9440],\n",
              "        [0.9580],\n",
              "        [0.9720],\n",
              "        [0.9860]])"
            ]
          },
          "metadata": {},
          "execution_count": 43
        }
      ]
    },
    {
      "cell_type": "code",
      "source": [
        "plot_prediction(predictions=y_preds)"
      ],
      "metadata": {
        "colab": {
          "base_uri": "https://localhost:8080/",
          "height": 620
        },
        "id": "3QM6k2FiF6Zg",
        "outputId": "888f3bf4-66d2-4f3c-facb-259c64e5bf2b"
      },
      "execution_count": 44,
      "outputs": [
        {
          "output_type": "display_data",
          "data": {
            "text/plain": [
              "<Figure size 1000x700 with 1 Axes>"
            ],
            "image/png": "[encoded data removed]"
          },
          "metadata": {}
        }
      ]
    },
    {
      "cell_type": "code",
      "source": [],
      "metadata": {
        "id": "XRqJbDqaF6W-"
      },
      "execution_count": null,
      "outputs": []
    },
    {
      "cell_type": "code",
      "source": [],
      "metadata": {
        "id": "93qBFvC4F6Ui"
      },
      "execution_count": null,
      "outputs": []
    },
    {
      "cell_type": "code",
      "source": [],
      "metadata": {
        "id": "2YcNkuVxF6R9"
      },
      "execution_count": null,
      "outputs": []
    },
    {
      "cell_type": "code",
      "source": [],
      "metadata": {
        "id": "DIZaC-xKF6Pm"
      },
      "execution_count": null,
      "outputs": []
    },
    {
      "cell_type": "code",
      "source": [],
      "metadata": {
        "id": "oHJF-t70F6NQ"
      },
      "execution_count": null,
      "outputs": []
    },
    {
      "cell_type": "code",
      "source": [],
      "metadata": {
        "id": "dhqHILjBF6Kd"
      },
      "execution_count": null,
      "outputs": []
    },
    {
      "cell_type": "code",
      "source": [],
      "metadata": {
        "id": "QhO53-ygF6ID"
      },
      "execution_count": null,
      "outputs": []
    },
    {
      "cell_type": "code",
      "source": [],
      "metadata": {
        "id": "K4co-znVF6Fc"
      },
      "execution_count": null,
      "outputs": []
    },
    {
      "cell_type": "code",
      "source": [],
      "metadata": {
        "id": "h99jb43QF6Cl"
      },
      "execution_count": null,
      "outputs": []
    },
    {
      "cell_type": "code",
      "source": [],
      "metadata": {
        "id": "xgHRUK_JF6AC"
      },
      "execution_count": null,
      "outputs": []
    },
    {
      "cell_type": "code",
      "source": [],
      "metadata": {
        "id": "YDew0yYkF59o"
      },
      "execution_count": null,
      "outputs": []
    },
    {
      "cell_type": "code",
      "source": [],
      "metadata": {
        "id": "AF2CUNU4F57G"
      },
      "execution_count": null,
      "outputs": []
    },
    {
      "cell_type": "code",
      "source": [],
      "metadata": {
        "id": "uGH_Jre8F54r"
      },
      "execution_count": null,
      "outputs": []
    },
    {
      "cell_type": "code",
      "source": [],
      "metadata": {
        "id": "1bSnsu2EF510"
      },
      "execution_count": null,
      "outputs": []
    },
    {
      "cell_type": "code",
      "source": [],
      "metadata": {
        "id": "jHlNzKW-F5zR"
      },
      "execution_count": null,
      "outputs": []
    },
    {
      "cell_type": "code",
      "source": [],
      "metadata": {
        "id": "Yf_6QFPqF5w5"
      },
      "execution_count": null,
      "outputs": []
    },
    {
      "cell_type": "code",
      "source": [],
      "metadata": {
        "id": "ncqxzy2pF5uA"
      },
      "execution_count": null,
      "outputs": []
    },
    {
      "cell_type": "code",
      "source": [],
      "metadata": {
        "id": "e9XojceaF5rb"
      },
      "execution_count": null,
      "outputs": []
    },
    {
      "cell_type": "code",
      "source": [],
      "metadata": {
        "id": "J45CUMw_F5jd"
      },
      "execution_count": null,
      "outputs": []
    },
    {
      "cell_type": "code",
      "execution_count": 26,
      "metadata": {
        "id": "4JJE_HwPQGkV"
      },
      "outputs": [],
      "source": []
    }
  ]
}