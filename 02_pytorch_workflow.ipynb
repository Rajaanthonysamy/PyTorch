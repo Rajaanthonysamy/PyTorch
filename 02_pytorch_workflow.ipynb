{
  "nbformat": 4,
  "nbformat_minor": 0,
  "metadata": {
    "colab": {
      "provenance": [],
      "gpuType": "T4",
      "authorship_tag": "ABX9TyMiMpa+szljs1hrswpqPHsR",
      "include_colab_link": true
    },
    "kernelspec": {
      "name": "python3",
      "display_name": "Python 3"
    },
    "language_info": {
      "name": "python"
    },
    "accelerator": "GPU"
  },
  "cells": [
    {
      "cell_type": "markdown",
      "metadata": {
        "id": "view-in-github",
        "colab_type": "text"
      },
      "source": [
        "<a href=\"https://colab.research.google.com/github/Rajaanthonysamy/PyTorch/blob/main/02_pytorch_workflow.ipynb\" target=\"_parent\"><img src=\"https://colab.research.google.com/assets/colab-badge.svg\" alt=\"Open In Colab\"/></a>"
      ]
    },
    {
      "cell_type": "markdown",
      "source": [
        "# PyTorch Workflow end-to-end"
      ],
      "metadata": {
        "id": "A9l3YmMkQzH_"
      }
    },
    {
      "cell_type": "code",
      "source": [
        "import torch\n",
        "from torch import nn ## nn contains all workflow of the pytorch building block neural network"
      ],
      "metadata": {
        "id": "QcradVB2Qyro"
      },
      "execution_count": 188,
      "outputs": []
    },
    {
      "cell_type": "code",
      "source": [
        "import matplotlib.pyplot as plt"
      ],
      "metadata": {
        "id": "Z8BkXlbiQ8rv"
      },
      "execution_count": 189,
      "outputs": []
    },
    {
      "cell_type": "code",
      "source": [
        "torch.__version__"
      ],
      "metadata": {
        "colab": {
          "base_uri": "https://localhost:8080/",
          "height": 56
        },
        "id": "0p6EJ8rBQ8pV",
        "outputId": "3d900409-3bb4-4ef1-d2dc-2b0284c80ac1"
      },
      "execution_count": 190,
      "outputs": [
        {
          "output_type": "execute_result",
          "data": {
            "text/plain": [
              "'2.8.0+cu126'"
            ],
            "application/vnd.google.colaboratory.intrinsic+json": {
              "type": "string"
            }
          },
          "metadata": {},
          "execution_count": 190
        }
      ]
    },
    {
      "cell_type": "markdown",
      "source": [
        "Data Preparing and loading\n",
        "\n",
        "data can be anything in machine learning\n"
      ],
      "metadata": {
        "id": "dGOnSD6cSI9s"
      }
    },
    {
      "cell_type": "code",
      "source": [
        "weight = 0.7\n",
        "bias = 0.3\n",
        "\n",
        "start = 0\n",
        "end = 1\n",
        "step = 0.02\n",
        "X = torch.arange(start, end, step).unsqueeze(dim=1)\n",
        "y = weight * X + bias\n",
        "\n"
      ],
      "metadata": {
        "id": "Mz4i-EUvQ8mu"
      },
      "execution_count": 191,
      "outputs": []
    },
    {
      "cell_type": "markdown",
      "source": [
        "## SPlit data train test"
      ],
      "metadata": {
        "id": "KgVQErrWVcFm"
      }
    },
    {
      "cell_type": "code",
      "source": [
        "X.size()"
      ],
      "metadata": {
        "colab": {
          "base_uri": "https://localhost:8080/"
        },
        "id": "hVonXSscQ8j7",
        "outputId": "ecb6ade9-fef0-496d-e4e9-74ceee350771"
      },
      "execution_count": 192,
      "outputs": [
        {
          "output_type": "execute_result",
          "data": {
            "text/plain": [
              "torch.Size([50, 1])"
            ]
          },
          "metadata": {},
          "execution_count": 192
        }
      ]
    },
    {
      "cell_type": "code",
      "source": [
        "train_split = int(0.8 * len(X))\n",
        "X_train, y_train = X[:train_split], y[:train_split]\n",
        "X_test, y_test = X[train_split:], y[train_split:]"
      ],
      "metadata": {
        "id": "umCzraZcQ8hR"
      },
      "execution_count": 193,
      "outputs": []
    },
    {
      "cell_type": "code",
      "source": [
        "train_split"
      ],
      "metadata": {
        "colab": {
          "base_uri": "https://localhost:8080/"
        },
        "id": "-mgcXFIKQ8ep",
        "outputId": "62c1e99e-7a95-466e-e291-ca8f19b6140f"
      },
      "execution_count": 194,
      "outputs": [
        {
          "output_type": "execute_result",
          "data": {
            "text/plain": [
              "40"
            ]
          },
          "metadata": {},
          "execution_count": 194
        }
      ]
    },
    {
      "cell_type": "code",
      "source": [
        "plt.figure(figsize=(10,7))\n",
        "plt.scatter(X_train, y_train, c=\"b\", s=10, label=\"training data\")\n",
        "plt.scatter(X_test, y_test, c=\"g\", s=4, label=\"testing data\")"
      ],
      "metadata": {
        "colab": {
          "base_uri": "https://localhost:8080/",
          "height": 637
        },
        "id": "MgKptb5gQ8cH",
        "outputId": "94d01887-0c2e-4a3a-c67b-a78f4a429cac"
      },
      "execution_count": 195,
      "outputs": [
        {
          "output_type": "execute_result",
          "data": {
            "text/plain": [
              "<matplotlib.collections.PathCollection at 0x7db79d9b0dd0>"
            ]
          },
          "metadata": {},
          "execution_count": 195
        },
        {
          "output_type": "display_data",
          "data": {
            "text/plain": [
              "<Figure size 1000x700 with 1 Axes>"
            ],
            "image/png": "[encoded data removed]"
          },
          "metadata": {}
        }
      ]
    },
    {
      "cell_type": "code",
      "source": [
        "def plot_prediction(train_data= X_train , train_labels=y_train , test_data=X_test , test_labels=y_test , predictions=None):\n",
        "  \"\"\"Plots training data , test data and compares predictions\"\"\"\n",
        "  plt.figure(figsize=(10,7))\n",
        "  plt.scatter(train_data, train_labels, c=\"b\", s=4, label=\"training data\")\n",
        "  plt.scatter(test_data, test_labels, c=\"g\", s=4, label=\"testing data\")\n",
        "\n",
        "  if predictions is not None:\n",
        "    plt.scatter(test_data, predictions, c=\"r\", s=4, label=\"predictions\")\n",
        "\n",
        "  plt.legend(prop={\"size\":14})"
      ],
      "metadata": {
        "id": "unjwB3ZTQ8Zt"
      },
      "execution_count": 196,
      "outputs": []
    },
    {
      "cell_type": "code",
      "source": [
        "pred=torch.rand(10,1)"
      ],
      "metadata": {
        "id": "Ir5yGfsZQ8W5"
      },
      "execution_count": 197,
      "outputs": []
    },
    {
      "cell_type": "code",
      "source": [
        "pred.size()"
      ],
      "metadata": {
        "colab": {
          "base_uri": "https://localhost:8080/"
        },
        "id": "pdkP6z_nQ8UP",
        "outputId": "ccdd4092-fcb9-4f0b-b9c2-4659771bd7c1"
      },
      "execution_count": 198,
      "outputs": [
        {
          "output_type": "execute_result",
          "data": {
            "text/plain": [
              "torch.Size([10, 1])"
            ]
          },
          "metadata": {},
          "execution_count": 198
        }
      ]
    },
    {
      "cell_type": "code",
      "source": [
        "pred"
      ],
      "metadata": {
        "colab": {
          "base_uri": "https://localhost:8080/"
        },
        "id": "Y9lQrivLbkdm",
        "outputId": "b0760e7e-b9a1-473a-eac8-b49d48723c25"
      },
      "execution_count": 199,
      "outputs": [
        {
          "output_type": "execute_result",
          "data": {
            "text/plain": [
              "tensor([[0.2696],\n",
              "        [0.4414],\n",
              "        [0.2969],\n",
              "        [0.8317],\n",
              "        [0.1053],\n",
              "        [0.2695],\n",
              "        [0.3588],\n",
              "        [0.1994],\n",
              "        [0.5472],\n",
              "        [0.0062]])"
            ]
          },
          "metadata": {},
          "execution_count": 199
        }
      ]
    },
    {
      "cell_type": "code",
      "source": [
        "X_test.size()"
      ],
      "metadata": {
        "colab": {
          "base_uri": "https://localhost:8080/"
        },
        "id": "IqClsbJyQ8RY",
        "outputId": "3685f19a-014c-47a7-daf6-b974e7ab6a4b"
      },
      "execution_count": 200,
      "outputs": [
        {
          "output_type": "execute_result",
          "data": {
            "text/plain": [
              "torch.Size([10, 1])"
            ]
          },
          "metadata": {},
          "execution_count": 200
        }
      ]
    },
    {
      "cell_type": "code",
      "source": [
        "pred.size()"
      ],
      "metadata": {
        "colab": {
          "base_uri": "https://localhost:8080/"
        },
        "id": "geAgdfzUQ8Ok",
        "outputId": "46c80320-66b7-449f-cb9b-5b5f4ee51214"
      },
      "execution_count": 201,
      "outputs": [
        {
          "output_type": "execute_result",
          "data": {
            "text/plain": [
              "torch.Size([10, 1])"
            ]
          },
          "metadata": {},
          "execution_count": 201
        }
      ]
    },
    {
      "cell_type": "code",
      "source": [
        "plot_prediction(predictions=pred)"
      ],
      "metadata": {
        "colab": {
          "base_uri": "https://localhost:8080/",
          "height": 620
        },
        "id": "yd-g3Ez9Q8MK",
        "outputId": "2a239a7a-7adf-4b52-df89-4bd9d7d193c6"
      },
      "execution_count": 202,
      "outputs": [
        {
          "output_type": "display_data",
          "data": {
            "text/plain": [
              "<Figure size 1000x700 with 1 Axes>"
            ],
            "image/png": "[encoded data removed]"
          },
          "metadata": {}
        }
      ]
    },
    {
      "cell_type": "code",
      "source": [
        "pred= torch.arange(0,1,0.1)"
      ],
      "metadata": {
        "id": "deqW_s1KQ8J0"
      },
      "execution_count": 203,
      "outputs": []
    },
    {
      "cell_type": "code",
      "source": [
        "pred"
      ],
      "metadata": {
        "colab": {
          "base_uri": "https://localhost:8080/"
        },
        "id": "WV8VJmxGccck",
        "outputId": "4a10c482-32b9-43cb-d337-79c6d4e2b2c4"
      },
      "execution_count": 204,
      "outputs": [
        {
          "output_type": "execute_result",
          "data": {
            "text/plain": [
              "tensor([0.0000, 0.1000, 0.2000, 0.3000, 0.4000, 0.5000, 0.6000, 0.7000, 0.8000,\n",
              "        0.9000])"
            ]
          },
          "metadata": {},
          "execution_count": 204
        }
      ]
    },
    {
      "cell_type": "code",
      "source": [
        "pred=pred * weight + bias"
      ],
      "metadata": {
        "id": "J2f_w4CoQ8HR"
      },
      "execution_count": 205,
      "outputs": []
    },
    {
      "cell_type": "code",
      "source": [
        "pred"
      ],
      "metadata": {
        "colab": {
          "base_uri": "https://localhost:8080/"
        },
        "id": "6O45mVXdQ8E4",
        "outputId": "5ebfd5c9-81a7-4734-ece3-6984cb0e7050"
      },
      "execution_count": 206,
      "outputs": [
        {
          "output_type": "execute_result",
          "data": {
            "text/plain": [
              "tensor([0.3000, 0.3700, 0.4400, 0.5100, 0.5800, 0.6500, 0.7200, 0.7900, 0.8600,\n",
              "        0.9300])"
            ]
          },
          "metadata": {},
          "execution_count": 206
        }
      ]
    },
    {
      "cell_type": "code",
      "source": [
        "plot_prediction(predictions=pred)"
      ],
      "metadata": {
        "colab": {
          "base_uri": "https://localhost:8080/",
          "height": 620
        },
        "id": "F0o4nP-0Q8CV",
        "outputId": "291745fa-b950-4a27-8c90-7908c46945d9"
      },
      "execution_count": 207,
      "outputs": [
        {
          "output_type": "display_data",
          "data": {
            "text/plain": [
              "<Figure size 1000x700 with 1 Axes>"
            ],
            "image/png": "[encoded data removed]"
          },
          "metadata": {}
        }
      ]
    },
    {
      "cell_type": "markdown",
      "source": [
        "## Build Linear model"
      ],
      "metadata": {
        "id": "TxRR2ptMdNU_"
      }
    },
    {
      "cell_type": "code",
      "source": [
        "class LinearModel(nn.Module):\n",
        "  def __init__(self):\n",
        "    super().__init__()\n",
        "    self.weights= nn.Parameter(torch.randn(\n",
        "        1,requires_grad=True, dtype=torch.float\n",
        "    ))\n",
        "    self.bias= nn.Parameter(torch.rand(\n",
        "        1,  requires_grad=True, dtype=torch.float\n",
        "    ))\n",
        "\n",
        "### forward method define the computation in the model\n",
        "  def forward(self,x:torch.Tensor) -> torch.Tensor:   ### have to override the model when use subclass nn.module\n",
        "    return self.weights * x + self.bias"
      ],
      "metadata": {
        "id": "1Z7j-aCrQ7_7"
      },
      "execution_count": 208,
      "outputs": []
    },
    {
      "cell_type": "markdown",
      "source": [
        "# Pytorch model building essentials\n",
        "\n",
        "torch.nn - computational graaph for model building (a neural network can be considered as a computational graph)\n",
        "\n",
        "torch.nn.Parameter - what parameters should our model try and learn, often a PyTorch layer from torch.nn will set for us\n",
        "\n",
        "torch.nn.Module - Base class for the all neural network module, we should overide the forward method\n",
        "\n",
        "torch.optim - this is where the optimizers in pytorch live , they will help with gradient descent\n",
        "\n",
        "def forward() - all nn.Module subclasses require you to overwrite forward(), this method defines what happens in the forward computation\n"
      ],
      "metadata": {
        "id": "sYnGpAa5GR95"
      }
    },
    {
      "cell_type": "markdown",
      "source": [
        "--------------------------------------------------------------------\n",
        "\n",
        "\n",
        "PyTorch module\tWhat does it do?\n",
        "torch.nn\tContains all of the building blocks for computational graphs (essentially a series of computations executed in a particular way).\n",
        "\n",
        "torch.nn.Parameter\tStores tensors that can be used with nn.Module. If requires_grad=True gradients (used for updating model parameters via gradient descent) are calculated automatically, this is often referred to as \"autograd\".\n",
        "\n",
        "torch.nn.Module\tThe base class for all neural network modules, all the building blocks for neural networks are subclasses. If you're building a neural network in PyTorch, your models should subclass nn.Module. Requires a forward() method be implemented.\n",
        "\n",
        "torch.optim\tContains various optimization algorithms (these tell the model parameters stored in nn.Parameter how to best change to improve gradient descent and in turn reduce the loss).\n",
        "\n",
        "\n",
        "def forward()\tAll nn.Module subclasses require a forward() method, this defines the computation that will take place on the data passed to the particular nn.Module (e.g. the linear regression formula above)."
      ],
      "metadata": {
        "id": "53nEaNNwIJNa"
      }
    },
    {
      "cell_type": "code",
      "source": [
        "torch.manual_seed(42)\n",
        "\n",
        "model_0 = LinearModel()\n",
        "list(model_0.parameters())"
      ],
      "metadata": {
        "colab": {
          "base_uri": "https://localhost:8080/"
        },
        "id": "jPJOyjSZQ79l",
        "outputId": "81802295-d17d-422e-c7a1-9e6c42bae7f7"
      },
      "execution_count": 209,
      "outputs": [
        {
          "output_type": "execute_result",
          "data": {
            "text/plain": [
              "[Parameter containing:\n",
              " tensor([0.3367], requires_grad=True),\n",
              " Parameter containing:\n",
              " tensor([0.3904], requires_grad=True)]"
            ]
          },
          "metadata": {},
          "execution_count": 209
        }
      ]
    },
    {
      "cell_type": "code",
      "source": [
        "model_0.state_dict()"
      ],
      "metadata": {
        "colab": {
          "base_uri": "https://localhost:8080/"
        },
        "id": "aEe9RWUfQ76w",
        "outputId": "c65d08e0-3f7f-4ebb-fdb4-e65dd5f81800"
      },
      "execution_count": 210,
      "outputs": [
        {
          "output_type": "execute_result",
          "data": {
            "text/plain": [
              "OrderedDict([('weights', tensor([0.3367])), ('bias', tensor([0.3904]))])"
            ]
          },
          "metadata": {},
          "execution_count": 210
        }
      ]
    },
    {
      "cell_type": "code",
      "source": [
        "weight,bias"
      ],
      "metadata": {
        "colab": {
          "base_uri": "https://localhost:8080/"
        },
        "id": "63p8jOEmQ73h",
        "outputId": "c09c4cc3-823d-4ec1-e47b-3501aea4d48a"
      },
      "execution_count": 211,
      "outputs": [
        {
          "output_type": "execute_result",
          "data": {
            "text/plain": [
              "(0.7, 0.3)"
            ]
          },
          "metadata": {},
          "execution_count": 211
        }
      ]
    },
    {
      "cell_type": "code",
      "source": [
        "### making prediction usingh torch.inference_mode()\n",
        "\n",
        "## to chk our model predictive power lets see how well it predicts y_test based on X_test\n",
        "\n",
        "## when we pass data throgh our model, its going to run it through the forward() method\n",
        "\n"
      ],
      "metadata": {
        "id": "npqFHPPFQ7vV"
      },
      "execution_count": 212,
      "outputs": []
    },
    {
      "cell_type": "code",
      "source": [
        "with torch.inference_mode():\n",
        "  y_preds = model_0(X_test)"
      ],
      "metadata": {
        "id": "j2MA3iGRF6hU"
      },
      "execution_count": 213,
      "outputs": []
    },
    {
      "cell_type": "code",
      "source": [
        "y_preds_without_with = model_0(X_test)\n",
        "y_preds_without_with #### when we didnt use with bloack that time it will track the gradient so it will make the computation slower\n",
        "#### when model training is happening that time use the with block to track the gradient\n",
        "## when its prediction mode that time use the with block for computation speed thetime it wont calculate the  gradient tracking"
      ],
      "metadata": {
        "colab": {
          "base_uri": "https://localhost:8080/"
        },
        "id": "1dQrPeFhNtON",
        "outputId": "8b3c8f52-88b0-4a8b-dc56-6bf29a259bcf"
      },
      "execution_count": 214,
      "outputs": [
        {
          "output_type": "execute_result",
          "data": {
            "text/plain": [
              "tensor([[0.6598],\n",
              "        [0.6665],\n",
              "        [0.6733],\n",
              "        [0.6800],\n",
              "        [0.6867],\n",
              "        [0.6935],\n",
              "        [0.7002],\n",
              "        [0.7069],\n",
              "        [0.7137],\n",
              "        [0.7204]], grad_fn=<AddBackward0>)"
            ]
          },
          "metadata": {},
          "execution_count": 214
        }
      ]
    },
    {
      "cell_type": "code",
      "source": [
        "y_preds"
      ],
      "metadata": {
        "colab": {
          "base_uri": "https://localhost:8080/"
        },
        "id": "aHLKzXowF6et",
        "outputId": "b5e196dc-12da-4076-c874-c7792ddcb32c"
      },
      "execution_count": 215,
      "outputs": [
        {
          "output_type": "execute_result",
          "data": {
            "text/plain": [
              "tensor([[0.6598],\n",
              "        [0.6665],\n",
              "        [0.6733],\n",
              "        [0.6800],\n",
              "        [0.6867],\n",
              "        [0.6935],\n",
              "        [0.7002],\n",
              "        [0.7069],\n",
              "        [0.7137],\n",
              "        [0.7204]])"
            ]
          },
          "metadata": {},
          "execution_count": 215
        }
      ]
    },
    {
      "cell_type": "code",
      "source": [
        "y_test"
      ],
      "metadata": {
        "colab": {
          "base_uri": "https://localhost:8080/"
        },
        "id": "HCmJV_McF6cH",
        "outputId": "125fb0ad-c7fb-40fb-b5da-66d5557d7d5b"
      },
      "execution_count": 216,
      "outputs": [
        {
          "output_type": "execute_result",
          "data": {
            "text/plain": [
              "tensor([[0.8600],\n",
              "        [0.8740],\n",
              "        [0.8880],\n",
              "        [0.9020],\n",
              "        [0.9160],\n",
              "        [0.9300],\n",
              "        [0.9440],\n",
              "        [0.9580],\n",
              "        [0.9720],\n",
              "        [0.9860]])"
            ]
          },
          "metadata": {},
          "execution_count": 216
        }
      ]
    },
    {
      "cell_type": "code",
      "source": [
        "plot_prediction(predictions=y_preds)"
      ],
      "metadata": {
        "colab": {
          "base_uri": "https://localhost:8080/",
          "height": 620
        },
        "id": "3QM6k2FiF6Zg",
        "outputId": "d8053b21-9684-44ab-e57a-dc63b2b07779"
      },
      "execution_count": 217,
      "outputs": [
        {
          "output_type": "display_data",
          "data": {
            "text/plain": [
              "<Figure size 1000x700 with 1 Axes>"
            ],
            "image/png": "[encoded data removed]"
          },
          "metadata": {}
        }
      ]
    },
    {
      "cell_type": "code",
      "source": [
        "list(model_0.parameters())"
      ],
      "metadata": {
        "colab": {
          "base_uri": "https://localhost:8080/"
        },
        "id": "XRqJbDqaF6W-",
        "outputId": "ab723313-7589-4930-ce7e-450af7de1e2f"
      },
      "execution_count": 218,
      "outputs": [
        {
          "output_type": "execute_result",
          "data": {
            "text/plain": [
              "[Parameter containing:\n",
              " tensor([0.3367], requires_grad=True),\n",
              " Parameter containing:\n",
              " tensor([0.3904], requires_grad=True)]"
            ]
          },
          "metadata": {},
          "execution_count": 218
        }
      ]
    },
    {
      "cell_type": "code",
      "source": [
        "model_0.state_dict()"
      ],
      "metadata": {
        "colab": {
          "base_uri": "https://localhost:8080/"
        },
        "id": "93qBFvC4F6Ui",
        "outputId": "e861ef63-216f-4dc6-80bf-5e8c1fc4d109"
      },
      "execution_count": 219,
      "outputs": [
        {
          "output_type": "execute_result",
          "data": {
            "text/plain": [
              "OrderedDict([('weights', tensor([0.3367])), ('bias', tensor([0.3904]))])"
            ]
          },
          "metadata": {},
          "execution_count": 219
        }
      ]
    },
    {
      "cell_type": "markdown",
      "source": [
        "** Loss Function\n",
        "\n",
        "A function to measure how wrong your models prediction are to ideal outputs, lower is better.\n",
        "\n",
        "** Optimizers\n",
        "\n",
        "Takes into account the loss of the model and adjusts the model's parameters(weights and bias) to improve the loss"
      ],
      "metadata": {
        "id": "kn_OXLAJex-h"
      }
    },
    {
      "cell_type": "code",
      "source": [
        "loss_func = nn.L1Loss()\n",
        "\n",
        "\n",
        "opti= torch.optim.SGD(params=model_0.parameters(), lr=0.01)\n",
        "\n"
      ],
      "metadata": {
        "id": "2YcNkuVxF6R9"
      },
      "execution_count": 220,
      "outputs": []
    },
    {
      "cell_type": "markdown",
      "source": [
        "** Building a training loop and a testing loop in pytorch\n",
        "\n",
        "**Couple of things we need in a training loop\n",
        "\n",
        "0. loop through the data\n",
        "\n",
        "1. forward pass this involves data moving through our models forward() function also called forward propgation\n",
        "\n",
        "2. calculate the loss (compare forward pass prediction ground thruth labels)\n",
        "\n",
        "3. Optimizer zero grad\n",
        "\n",
        "4. loss backward - move throgh the backward to network to calculate the gradients of each of the parameters of our models with respect to the loss\n",
        "\n",
        "5. Optimizer step - use the optimizer to adjust the models paramaeter to try and improve the loss"
      ],
      "metadata": {
        "id": "4XDySgPkkQHw"
      }
    },
    {
      "cell_type": "code",
      "source": [
        "\n",
        "## an epochs is one loop through the data (this is a hyperparameter because we are set it ourselves)\n",
        "epochs=200\n",
        "torch.manual_seed(42)\n",
        "epoch_count=[]\n",
        "loss_values=[]\n",
        "test_loss_values=[]\n",
        "\n",
        "for epoch in range(epochs):\n",
        "  print(\"epochs\")\n",
        "  ## setting the model to the training mode\n",
        "  model_0.train()\n",
        "\n",
        "  ## 1.forward pass\n",
        "  y_pred = model_0(X_train)\n",
        "\n",
        "  ## 2. calculate loss function\n",
        "  loss = loss_func(y_pred,y_train)\n",
        "\n",
        "  print(\"Loss \",loss)\n",
        "\n",
        "  ## 3 .optimizer zero grad\n",
        "  opti.zero_grad()\n",
        "\n",
        "  ## 4. perform back propagation\n",
        "\n",
        "  loss.backward()\n",
        "  ## 5. step the optimizer performm the gradient descent\n",
        "  opti.step()## by default optimizer changes will accumilate through the loop so.. we have to zero them above in step 3 for the next iteration of the loop\n",
        "\n",
        "  ## testing\n",
        "  model_0.eval() ## turn off the gradient\n",
        "  print(model_0.state_dict())\n",
        "\n",
        "  with torch.inference_mode():\n",
        "    test_pred=model_0(X_test)\n",
        "    test_loss=loss_func(test_pred,y_test)\n",
        "  if epoch % 10 == 0:\n",
        "    epoch_count.append(epoch)\n",
        "    loss_values.append(loss)\n",
        "    test_loss_values.append(test_loss)\n",
        "    print(f\"Epoch: {epoch} | Loss: {loss} | Test Loss: {test_loss}\")\n",
        "    print(model_0.state_dict())"
      ],
      "metadata": {
        "id": "DIZaC-xKF6Pm",
        "colab": {
          "base_uri": "https://localhost:8080/"
        },
        "outputId": "afd2726f-fab1-4f4a-ce44-21a35ec4d5d7"
      },
      "execution_count": 221,
      "outputs": [
        {
          "output_type": "stream",
          "name": "stdout",
          "text": [
            "epochs\n",
            "Loss  tensor(0.0817, grad_fn=<MeanBackward0>)\n",
            "OrderedDict({'weights': tensor([0.3398]), 'bias': tensor([0.3939])})\n",
            "Epoch: 0 | Loss: 0.08169572055339813 | Test Loss: 0.22662055492401123\n",
            "OrderedDict({'weights': tensor([0.3398]), 'bias': tensor([0.3939])})\n",
            "epochs\n",
            "Loss  tensor(0.0795, grad_fn=<MeanBackward0>)\n",
            "OrderedDict({'weights': tensor([0.3428]), 'bias': tensor([0.3969])})\n",
            "epochs\n",
            "Loss  tensor(0.0777, grad_fn=<MeanBackward0>)\n",
            "OrderedDict({'weights': tensor([0.3458]), 'bias': tensor([0.3999])})\n",
            "epochs\n",
            "Loss  tensor(0.0760, grad_fn=<MeanBackward0>)\n",
            "OrderedDict({'weights': tensor([0.3486]), 'bias': tensor([0.4024])})\n",
            "epochs\n",
            "Loss  tensor(0.0745, grad_fn=<MeanBackward0>)\n",
            "OrderedDict({'weights': tensor([0.3515]), 'bias': tensor([0.4049])})\n",
            "epochs\n",
            "Loss  tensor(0.0731, grad_fn=<MeanBackward0>)\n",
            "OrderedDict({'weights': tensor([0.3542]), 'bias': tensor([0.4069])})\n",
            "epochs\n",
            "Loss  tensor(0.0720, grad_fn=<MeanBackward0>)\n",
            "OrderedDict({'weights': tensor([0.3569]), 'bias': tensor([0.4089])})\n",
            "epochs\n",
            "Loss  tensor(0.0708, grad_fn=<MeanBackward0>)\n",
            "OrderedDict({'weights': tensor([0.3596]), 'bias': tensor([0.4109])})\n",
            "epochs\n",
            "Loss  tensor(0.0698, grad_fn=<MeanBackward0>)\n",
            "OrderedDict({'weights': tensor([0.3621]), 'bias': tensor([0.4124])})\n",
            "epochs\n",
            "Loss  tensor(0.0690, grad_fn=<MeanBackward0>)\n",
            "OrderedDict({'weights': tensor([0.3647]), 'bias': tensor([0.4139])})\n",
            "epochs\n",
            "Loss  tensor(0.0681, grad_fn=<MeanBackward0>)\n",
            "OrderedDict({'weights': tensor([0.3672]), 'bias': tensor([0.4154])})\n",
            "Epoch: 10 | Loss: 0.06808149069547653 | Test Loss: 0.1807345449924469\n",
            "OrderedDict({'weights': tensor([0.3672]), 'bias': tensor([0.4154])})\n",
            "epochs\n",
            "Loss  tensor(0.0673, grad_fn=<MeanBackward0>)\n",
            "OrderedDict({'weights': tensor([0.3696]), 'bias': tensor([0.4164])})\n",
            "epochs\n",
            "Loss  tensor(0.0667, grad_fn=<MeanBackward0>)\n",
            "OrderedDict({'weights': tensor([0.3720]), 'bias': tensor([0.4174])})\n",
            "epochs\n",
            "Loss  tensor(0.0660, grad_fn=<MeanBackward0>)\n",
            "OrderedDict({'weights': tensor([0.3743]), 'bias': tensor([0.4184])})\n",
            "epochs\n",
            "Loss  tensor(0.0654, grad_fn=<MeanBackward0>)\n",
            "OrderedDict({'weights': tensor([0.3765]), 'bias': tensor([0.4189])})\n",
            "epochs\n",
            "Loss  tensor(0.0649, grad_fn=<MeanBackward0>)\n",
            "OrderedDict({'weights': tensor([0.3787]), 'bias': tensor([0.4194])})\n",
            "epochs\n",
            "Loss  tensor(0.0644, grad_fn=<MeanBackward0>)\n",
            "OrderedDict({'weights': tensor([0.3809]), 'bias': tensor([0.4199])})\n",
            "epochs\n",
            "Loss  tensor(0.0639, grad_fn=<MeanBackward0>)\n",
            "OrderedDict({'weights': tensor([0.3831]), 'bias': tensor([0.4204])})\n",
            "epochs\n",
            "Loss  tensor(0.0634, grad_fn=<MeanBackward0>)\n",
            "OrderedDict({'weights': tensor([0.3851]), 'bias': tensor([0.4204])})\n",
            "epochs\n",
            "Loss  tensor(0.0630, grad_fn=<MeanBackward0>)\n",
            "OrderedDict({'weights': tensor([0.3871]), 'bias': tensor([0.4204])})\n",
            "epochs\n",
            "Loss  tensor(0.0626, grad_fn=<MeanBackward0>)\n",
            "OrderedDict({'weights': tensor([0.3891]), 'bias': tensor([0.4204])})\n",
            "Epoch: 20 | Loss: 0.06258393079042435 | Test Loss: 0.15627031028270721\n",
            "OrderedDict({'weights': tensor([0.3891]), 'bias': tensor([0.4204])})\n",
            "epochs\n",
            "Loss  tensor(0.0622, grad_fn=<MeanBackward0>)\n",
            "OrderedDict({'weights': tensor([0.3911]), 'bias': tensor([0.4204])})\n",
            "epochs\n",
            "Loss  tensor(0.0618, grad_fn=<MeanBackward0>)\n",
            "OrderedDict({'weights': tensor([0.3931]), 'bias': tensor([0.4204])})\n",
            "epochs\n",
            "Loss  tensor(0.0614, grad_fn=<MeanBackward0>)\n",
            "OrderedDict({'weights': tensor([0.3951]), 'bias': tensor([0.4204])})\n",
            "epochs\n",
            "Loss  tensor(0.0610, grad_fn=<MeanBackward0>)\n",
            "OrderedDict({'weights': tensor([0.3971]), 'bias': tensor([0.4204])})\n",
            "epochs\n",
            "Loss  tensor(0.0606, grad_fn=<MeanBackward0>)\n",
            "OrderedDict({'weights': tensor([0.3991]), 'bias': tensor([0.4204])})\n",
            "epochs\n",
            "Loss  tensor(0.0602, grad_fn=<MeanBackward0>)\n",
            "OrderedDict({'weights': tensor([0.4009]), 'bias': tensor([0.4199])})\n",
            "epochs\n",
            "Loss  tensor(0.0598, grad_fn=<MeanBackward0>)\n",
            "OrderedDict({'weights': tensor([0.4027]), 'bias': tensor([0.4194])})\n",
            "epochs\n",
            "Loss  tensor(0.0595, grad_fn=<MeanBackward0>)\n",
            "OrderedDict({'weights': tensor([0.4045]), 'bias': tensor([0.4189])})\n",
            "epochs\n",
            "Loss  tensor(0.0591, grad_fn=<MeanBackward0>)\n",
            "OrderedDict({'weights': tensor([0.4063]), 'bias': tensor([0.4184])})\n",
            "epochs\n",
            "Loss  tensor(0.0588, grad_fn=<MeanBackward0>)\n",
            "OrderedDict({'weights': tensor([0.4081]), 'bias': tensor([0.4179])})\n",
            "Epoch: 30 | Loss: 0.05879194289445877 | Test Loss: 0.1418602615594864\n",
            "OrderedDict({'weights': tensor([0.4081]), 'bias': tensor([0.4179])})\n",
            "epochs\n",
            "Loss  tensor(0.0584, grad_fn=<MeanBackward0>)\n",
            "OrderedDict({'weights': tensor([0.4099]), 'bias': tensor([0.4174])})\n",
            "epochs\n",
            "Loss  tensor(0.0581, grad_fn=<MeanBackward0>)\n",
            "OrderedDict({'weights': tensor([0.4117]), 'bias': tensor([0.4169])})\n",
            "epochs\n",
            "Loss  tensor(0.0577, grad_fn=<MeanBackward0>)\n",
            "OrderedDict({'weights': tensor([0.4135]), 'bias': tensor([0.4164])})\n",
            "epochs\n",
            "Loss  tensor(0.0574, grad_fn=<MeanBackward0>)\n",
            "OrderedDict({'weights': tensor([0.4153]), 'bias': tensor([0.4159])})\n",
            "epochs\n",
            "Loss  tensor(0.0570, grad_fn=<MeanBackward0>)\n",
            "OrderedDict({'weights': tensor([0.4171]), 'bias': tensor([0.4154])})\n",
            "epochs\n",
            "Loss  tensor(0.0567, grad_fn=<MeanBackward0>)\n",
            "OrderedDict({'weights': tensor([0.4189]), 'bias': tensor([0.4149])})\n",
            "epochs\n",
            "Loss  tensor(0.0563, grad_fn=<MeanBackward0>)\n",
            "OrderedDict({'weights': tensor([0.4207]), 'bias': tensor([0.4144])})\n",
            "epochs\n",
            "Loss  tensor(0.0560, grad_fn=<MeanBackward0>)\n",
            "OrderedDict({'weights': tensor([0.4225]), 'bias': tensor([0.4139])})\n",
            "epochs\n",
            "Loss  tensor(0.0557, grad_fn=<MeanBackward0>)\n",
            "OrderedDict({'weights': tensor([0.4243]), 'bias': tensor([0.4134])})\n",
            "epochs\n",
            "Loss  tensor(0.0553, grad_fn=<MeanBackward0>)\n",
            "OrderedDict({'weights': tensor([0.4261]), 'bias': tensor([0.4129])})\n",
            "Epoch: 40 | Loss: 0.05530194193124771 | Test Loss: 0.13084018230438232\n",
            "OrderedDict({'weights': tensor([0.4261]), 'bias': tensor([0.4129])})\n",
            "epochs\n",
            "Loss  tensor(0.0550, grad_fn=<MeanBackward0>)\n",
            "OrderedDict({'weights': tensor([0.4279]), 'bias': tensor([0.4124])})\n",
            "epochs\n",
            "Loss  tensor(0.0546, grad_fn=<MeanBackward0>)\n",
            "OrderedDict({'weights': tensor([0.4297]), 'bias': tensor([0.4119])})\n",
            "epochs\n",
            "Loss  tensor(0.0543, grad_fn=<MeanBackward0>)\n",
            "OrderedDict({'weights': tensor([0.4315]), 'bias': tensor([0.4114])})\n",
            "epochs\n",
            "Loss  tensor(0.0539, grad_fn=<MeanBackward0>)\n",
            "OrderedDict({'weights': tensor([0.4333]), 'bias': tensor([0.4109])})\n",
            "epochs\n",
            "Loss  tensor(0.0536, grad_fn=<MeanBackward0>)\n",
            "OrderedDict({'weights': tensor([0.4351]), 'bias': tensor([0.4104])})\n",
            "epochs\n",
            "Loss  tensor(0.0532, grad_fn=<MeanBackward0>)\n",
            "OrderedDict({'weights': tensor([0.4369]), 'bias': tensor([0.4099])})\n",
            "epochs\n",
            "Loss  tensor(0.0529, grad_fn=<MeanBackward0>)\n",
            "OrderedDict({'weights': tensor([0.4387]), 'bias': tensor([0.4094])})\n",
            "epochs\n",
            "Loss  tensor(0.0525, grad_fn=<MeanBackward0>)\n",
            "OrderedDict({'weights': tensor([0.4405]), 'bias': tensor([0.4089])})\n",
            "epochs\n",
            "Loss  tensor(0.0522, grad_fn=<MeanBackward0>)\n",
            "OrderedDict({'weights': tensor([0.4423]), 'bias': tensor([0.4084])})\n",
            "epochs\n",
            "Loss  tensor(0.0518, grad_fn=<MeanBackward0>)\n",
            "OrderedDict({'weights': tensor([0.4439]), 'bias': tensor([0.4074])})\n",
            "Epoch: 50 | Loss: 0.051822252571582794 | Test Loss: 0.12050700187683105\n",
            "OrderedDict({'weights': tensor([0.4439]), 'bias': tensor([0.4074])})\n",
            "epochs\n",
            "Loss  tensor(0.0515, grad_fn=<MeanBackward0>)\n",
            "OrderedDict({'weights': tensor([0.4457]), 'bias': tensor([0.4069])})\n",
            "epochs\n",
            "Loss  tensor(0.0511, grad_fn=<MeanBackward0>)\n",
            "OrderedDict({'weights': tensor([0.4473]), 'bias': tensor([0.4059])})\n",
            "epochs\n",
            "Loss  tensor(0.0508, grad_fn=<MeanBackward0>)\n",
            "OrderedDict({'weights': tensor([0.4491]), 'bias': tensor([0.4054])})\n",
            "epochs\n",
            "Loss  tensor(0.0504, grad_fn=<MeanBackward0>)\n",
            "OrderedDict({'weights': tensor([0.4507]), 'bias': tensor([0.4044])})\n",
            "epochs\n",
            "Loss  tensor(0.0501, grad_fn=<MeanBackward0>)\n",
            "OrderedDict({'weights': tensor([0.4525]), 'bias': tensor([0.4039])})\n",
            "epochs\n",
            "Loss  tensor(0.0498, grad_fn=<MeanBackward0>)\n",
            "OrderedDict({'weights': tensor([0.4543]), 'bias': tensor([0.4034])})\n",
            "epochs\n",
            "Loss  tensor(0.0494, grad_fn=<MeanBackward0>)\n",
            "OrderedDict({'weights': tensor([0.4558]), 'bias': tensor([0.4024])})\n",
            "epochs\n",
            "Loss  tensor(0.0491, grad_fn=<MeanBackward0>)\n",
            "OrderedDict({'weights': tensor([0.4576]), 'bias': tensor([0.4019])})\n",
            "epochs\n",
            "Loss  tensor(0.0487, grad_fn=<MeanBackward0>)\n",
            "OrderedDict({'weights': tensor([0.4592]), 'bias': tensor([0.4009])})\n",
            "epochs\n",
            "Loss  tensor(0.0484, grad_fn=<MeanBackward0>)\n",
            "OrderedDict({'weights': tensor([0.4610]), 'bias': tensor([0.4004])})\n",
            "Epoch: 60 | Loss: 0.04838593676686287 | Test Loss: 0.11223447322845459\n",
            "OrderedDict({'weights': tensor([0.4610]), 'bias': tensor([0.4004])})\n",
            "epochs\n",
            "Loss  tensor(0.0480, grad_fn=<MeanBackward0>)\n",
            "OrderedDict({'weights': tensor([0.4626]), 'bias': tensor([0.3994])})\n",
            "epochs\n",
            "Loss  tensor(0.0477, grad_fn=<MeanBackward0>)\n",
            "OrderedDict({'weights': tensor([0.4644]), 'bias': tensor([0.3989])})\n",
            "epochs\n",
            "Loss  tensor(0.0474, grad_fn=<MeanBackward0>)\n",
            "OrderedDict({'weights': tensor([0.4660]), 'bias': tensor([0.3979])})\n",
            "epochs\n",
            "Loss  tensor(0.0470, grad_fn=<MeanBackward0>)\n",
            "OrderedDict({'weights': tensor([0.4678]), 'bias': tensor([0.3974])})\n",
            "epochs\n",
            "Loss  tensor(0.0467, grad_fn=<MeanBackward0>)\n",
            "OrderedDict({'weights': tensor([0.4696]), 'bias': tensor([0.3969])})\n",
            "epochs\n",
            "Loss  tensor(0.0463, grad_fn=<MeanBackward0>)\n",
            "OrderedDict({'weights': tensor([0.4712]), 'bias': tensor([0.3959])})\n",
            "epochs\n",
            "Loss  tensor(0.0460, grad_fn=<MeanBackward0>)\n",
            "OrderedDict({'weights': tensor([0.4730]), 'bias': tensor([0.3954])})\n",
            "epochs\n",
            "Loss  tensor(0.0456, grad_fn=<MeanBackward0>)\n",
            "OrderedDict({'weights': tensor([0.4746]), 'bias': tensor([0.3944])})\n",
            "epochs\n",
            "Loss  tensor(0.0453, grad_fn=<MeanBackward0>)\n",
            "OrderedDict({'weights': tensor([0.4764]), 'bias': tensor([0.3939])})\n",
            "epochs\n",
            "Loss  tensor(0.0449, grad_fn=<MeanBackward0>)\n",
            "OrderedDict({'weights': tensor([0.4780]), 'bias': tensor([0.3929])})\n",
            "Epoch: 70 | Loss: 0.044948760420084 | Test Loss: 0.10464880615472794\n",
            "OrderedDict({'weights': tensor([0.4780]), 'bias': tensor([0.3929])})\n",
            "epochs\n",
            "Loss  tensor(0.0446, grad_fn=<MeanBackward0>)\n",
            "OrderedDict({'weights': tensor([0.4798]), 'bias': tensor([0.3924])})\n",
            "epochs\n",
            "Loss  tensor(0.0443, grad_fn=<MeanBackward0>)\n",
            "OrderedDict({'weights': tensor([0.4816]), 'bias': tensor([0.3919])})\n",
            "epochs\n",
            "Loss  tensor(0.0439, grad_fn=<MeanBackward0>)\n",
            "OrderedDict({'weights': tensor([0.4832]), 'bias': tensor([0.3909])})\n",
            "epochs\n",
            "Loss  tensor(0.0436, grad_fn=<MeanBackward0>)\n",
            "OrderedDict({'weights': tensor([0.4850]), 'bias': tensor([0.3904])})\n",
            "epochs\n",
            "Loss  tensor(0.0432, grad_fn=<MeanBackward0>)\n",
            "OrderedDict({'weights': tensor([0.4866]), 'bias': tensor([0.3894])})\n",
            "epochs\n",
            "Loss  tensor(0.0429, grad_fn=<MeanBackward0>)\n",
            "OrderedDict({'weights': tensor([0.4884]), 'bias': tensor([0.3889])})\n",
            "epochs\n",
            "Loss  tensor(0.0425, grad_fn=<MeanBackward0>)\n",
            "OrderedDict({'weights': tensor([0.4900]), 'bias': tensor([0.3879])})\n",
            "epochs\n",
            "Loss  tensor(0.0422, grad_fn=<MeanBackward0>)\n",
            "OrderedDict({'weights': tensor([0.4918]), 'bias': tensor([0.3874])})\n",
            "epochs\n",
            "Loss  tensor(0.0419, grad_fn=<MeanBackward0>)\n",
            "OrderedDict({'weights': tensor([0.4936]), 'bias': tensor([0.3869])})\n",
            "epochs\n",
            "Loss  tensor(0.0415, grad_fn=<MeanBackward0>)\n",
            "OrderedDict({'weights': tensor([0.4951]), 'bias': tensor([0.3859])})\n",
            "Epoch: 80 | Loss: 0.04152031987905502 | Test Loss: 0.09637625515460968\n",
            "OrderedDict({'weights': tensor([0.4951]), 'bias': tensor([0.3859])})\n",
            "epochs\n",
            "Loss  tensor(0.0412, grad_fn=<MeanBackward0>)\n",
            "OrderedDict({'weights': tensor([0.4969]), 'bias': tensor([0.3854])})\n",
            "epochs\n",
            "Loss  tensor(0.0408, grad_fn=<MeanBackward0>)\n",
            "OrderedDict({'weights': tensor([0.4985]), 'bias': tensor([0.3844])})\n",
            "epochs\n",
            "Loss  tensor(0.0405, grad_fn=<MeanBackward0>)\n",
            "OrderedDict({'weights': tensor([0.5003]), 'bias': tensor([0.3839])})\n",
            "epochs\n",
            "Loss  tensor(0.0401, grad_fn=<MeanBackward0>)\n",
            "OrderedDict({'weights': tensor([0.5019]), 'bias': tensor([0.3829])})\n",
            "epochs\n",
            "Loss  tensor(0.0398, grad_fn=<MeanBackward0>)\n",
            "OrderedDict({'weights': tensor([0.5037]), 'bias': tensor([0.3824])})\n",
            "epochs\n",
            "Loss  tensor(0.0395, grad_fn=<MeanBackward0>)\n",
            "OrderedDict({'weights': tensor([0.5053]), 'bias': tensor([0.3814])})\n",
            "epochs\n",
            "Loss  tensor(0.0391, grad_fn=<MeanBackward0>)\n",
            "OrderedDict({'weights': tensor([0.5071]), 'bias': tensor([0.3809])})\n",
            "epochs\n",
            "Loss  tensor(0.0388, grad_fn=<MeanBackward0>)\n",
            "OrderedDict({'weights': tensor([0.5089]), 'bias': tensor([0.3804])})\n",
            "epochs\n",
            "Loss  tensor(0.0384, grad_fn=<MeanBackward0>)\n",
            "OrderedDict({'weights': tensor([0.5105]), 'bias': tensor([0.3794])})\n",
            "epochs\n",
            "Loss  tensor(0.0381, grad_fn=<MeanBackward0>)\n",
            "OrderedDict({'weights': tensor([0.5123]), 'bias': tensor([0.3789])})\n",
            "Epoch: 90 | Loss: 0.03808232396841049 | Test Loss: 0.08810374140739441\n",
            "OrderedDict({'weights': tensor([0.5123]), 'bias': tensor([0.3789])})\n",
            "epochs\n",
            "Loss  tensor(0.0377, grad_fn=<MeanBackward0>)\n",
            "OrderedDict({'weights': tensor([0.5139]), 'bias': tensor([0.3779])})\n",
            "epochs\n",
            "Loss  tensor(0.0374, grad_fn=<MeanBackward0>)\n",
            "OrderedDict({'weights': tensor([0.5157]), 'bias': tensor([0.3774])})\n",
            "epochs\n",
            "Loss  tensor(0.0371, grad_fn=<MeanBackward0>)\n",
            "OrderedDict({'weights': tensor([0.5173]), 'bias': tensor([0.3764])})\n",
            "epochs\n",
            "Loss  tensor(0.0367, grad_fn=<MeanBackward0>)\n",
            "OrderedDict({'weights': tensor([0.5191]), 'bias': tensor([0.3759])})\n",
            "epochs\n",
            "Loss  tensor(0.0364, grad_fn=<MeanBackward0>)\n",
            "OrderedDict({'weights': tensor([0.5209]), 'bias': tensor([0.3754])})\n",
            "epochs\n",
            "Loss  tensor(0.0360, grad_fn=<MeanBackward0>)\n",
            "OrderedDict({'weights': tensor([0.5225]), 'bias': tensor([0.3744])})\n",
            "epochs\n",
            "Loss  tensor(0.0357, grad_fn=<MeanBackward0>)\n",
            "OrderedDict({'weights': tensor([0.5243]), 'bias': tensor([0.3739])})\n",
            "epochs\n",
            "Loss  tensor(0.0353, grad_fn=<MeanBackward0>)\n",
            "OrderedDict({'weights': tensor([0.5259]), 'bias': tensor([0.3729])})\n",
            "epochs\n",
            "Loss  tensor(0.0350, grad_fn=<MeanBackward0>)\n",
            "OrderedDict({'weights': tensor([0.5277]), 'bias': tensor([0.3724])})\n",
            "epochs\n",
            "Loss  tensor(0.0346, grad_fn=<MeanBackward0>)\n",
            "OrderedDict({'weights': tensor([0.5293]), 'bias': tensor([0.3714])})\n",
            "Epoch: 100 | Loss: 0.034646838903427124 | Test Loss: 0.08051808178424835\n",
            "OrderedDict({'weights': tensor([0.5293]), 'bias': tensor([0.3714])})\n",
            "epochs\n",
            "Loss  tensor(0.0343, grad_fn=<MeanBackward0>)\n",
            "OrderedDict({'weights': tensor([0.5311]), 'bias': tensor([0.3709])})\n",
            "epochs\n",
            "Loss  tensor(0.0340, grad_fn=<MeanBackward0>)\n",
            "OrderedDict({'weights': tensor([0.5329]), 'bias': tensor([0.3704])})\n",
            "epochs\n",
            "Loss  tensor(0.0336, grad_fn=<MeanBackward0>)\n",
            "OrderedDict({'weights': tensor([0.5344]), 'bias': tensor([0.3694])})\n",
            "epochs\n",
            "Loss  tensor(0.0333, grad_fn=<MeanBackward0>)\n",
            "OrderedDict({'weights': tensor([0.5362]), 'bias': tensor([0.3689])})\n",
            "epochs\n",
            "Loss  tensor(0.0329, grad_fn=<MeanBackward0>)\n",
            "OrderedDict({'weights': tensor([0.5378]), 'bias': tensor([0.3679])})\n",
            "epochs\n",
            "Loss  tensor(0.0326, grad_fn=<MeanBackward0>)\n",
            "OrderedDict({'weights': tensor([0.5396]), 'bias': tensor([0.3674])})\n",
            "epochs\n",
            "Loss  tensor(0.0322, grad_fn=<MeanBackward0>)\n",
            "OrderedDict({'weights': tensor([0.5412]), 'bias': tensor([0.3664])})\n",
            "epochs\n",
            "Loss  tensor(0.0319, grad_fn=<MeanBackward0>)\n",
            "OrderedDict({'weights': tensor([0.5430]), 'bias': tensor([0.3659])})\n",
            "epochs\n",
            "Loss  tensor(0.0316, grad_fn=<MeanBackward0>)\n",
            "OrderedDict({'weights': tensor([0.5446]), 'bias': tensor([0.3649])})\n",
            "epochs\n",
            "Loss  tensor(0.0312, grad_fn=<MeanBackward0>)\n",
            "OrderedDict({'weights': tensor([0.5464]), 'bias': tensor([0.3644])})\n",
            "Epoch: 110 | Loss: 0.031217509880661964 | Test Loss: 0.0722455382347107\n",
            "OrderedDict({'weights': tensor([0.5464]), 'bias': tensor([0.3644])})\n",
            "epochs\n",
            "Loss  tensor(0.0309, grad_fn=<MeanBackward0>)\n",
            "OrderedDict({'weights': tensor([0.5482]), 'bias': tensor([0.3639])})\n",
            "epochs\n",
            "Loss  tensor(0.0305, grad_fn=<MeanBackward0>)\n",
            "OrderedDict({'weights': tensor([0.5498]), 'bias': tensor([0.3629])})\n",
            "epochs\n",
            "Loss  tensor(0.0302, grad_fn=<MeanBackward0>)\n",
            "OrderedDict({'weights': tensor([0.5516]), 'bias': tensor([0.3624])})\n",
            "epochs\n",
            "Loss  tensor(0.0298, grad_fn=<MeanBackward0>)\n",
            "OrderedDict({'weights': tensor([0.5532]), 'bias': tensor([0.3614])})\n",
            "epochs\n",
            "Loss  tensor(0.0295, grad_fn=<MeanBackward0>)\n",
            "OrderedDict({'weights': tensor([0.5550]), 'bias': tensor([0.3609])})\n",
            "epochs\n",
            "Loss  tensor(0.0292, grad_fn=<MeanBackward0>)\n",
            "OrderedDict({'weights': tensor([0.5566]), 'bias': tensor([0.3599])})\n",
            "epochs\n",
            "Loss  tensor(0.0288, grad_fn=<MeanBackward0>)\n",
            "OrderedDict({'weights': tensor([0.5584]), 'bias': tensor([0.3594])})\n",
            "epochs\n",
            "Loss  tensor(0.0285, grad_fn=<MeanBackward0>)\n",
            "OrderedDict({'weights': tensor([0.5602]), 'bias': tensor([0.3589])})\n",
            "epochs\n",
            "Loss  tensor(0.0281, grad_fn=<MeanBackward0>)\n",
            "OrderedDict({'weights': tensor([0.5618]), 'bias': tensor([0.3579])})\n",
            "epochs\n",
            "Loss  tensor(0.0278, grad_fn=<MeanBackward0>)\n",
            "OrderedDict({'weights': tensor([0.5636]), 'bias': tensor([0.3574])})\n",
            "Epoch: 120 | Loss: 0.027778705582022667 | Test Loss: 0.06397300213575363\n",
            "OrderedDict({'weights': tensor([0.5636]), 'bias': tensor([0.3574])})\n",
            "epochs\n",
            "Loss  tensor(0.0274, grad_fn=<MeanBackward0>)\n",
            "OrderedDict({'weights': tensor([0.5652]), 'bias': tensor([0.3564])})\n",
            "epochs\n",
            "Loss  tensor(0.0271, grad_fn=<MeanBackward0>)\n",
            "OrderedDict({'weights': tensor([0.5670]), 'bias': tensor([0.3559])})\n",
            "epochs\n",
            "Loss  tensor(0.0267, grad_fn=<MeanBackward0>)\n",
            "OrderedDict({'weights': tensor([0.5686]), 'bias': tensor([0.3549])})\n",
            "epochs\n",
            "Loss  tensor(0.0264, grad_fn=<MeanBackward0>)\n",
            "OrderedDict({'weights': tensor([0.5704]), 'bias': tensor([0.3544])})\n",
            "epochs\n",
            "Loss  tensor(0.0261, grad_fn=<MeanBackward0>)\n",
            "OrderedDict({'weights': tensor([0.5722]), 'bias': tensor([0.3539])})\n",
            "epochs\n",
            "Loss  tensor(0.0257, grad_fn=<MeanBackward0>)\n",
            "OrderedDict({'weights': tensor([0.5737]), 'bias': tensor([0.3529])})\n",
            "epochs\n",
            "Loss  tensor(0.0254, grad_fn=<MeanBackward0>)\n",
            "OrderedDict({'weights': tensor([0.5755]), 'bias': tensor([0.3524])})\n",
            "epochs\n",
            "Loss  tensor(0.0250, grad_fn=<MeanBackward0>)\n",
            "OrderedDict({'weights': tensor([0.5771]), 'bias': tensor([0.3514])})\n",
            "epochs\n",
            "Loss  tensor(0.0247, grad_fn=<MeanBackward0>)\n",
            "OrderedDict({'weights': tensor([0.5789]), 'bias': tensor([0.3509])})\n",
            "epochs\n",
            "Loss  tensor(0.0243, grad_fn=<MeanBackward0>)\n",
            "OrderedDict({'weights': tensor([0.5805]), 'bias': tensor([0.3499])})\n",
            "Epoch: 130 | Loss: 0.024344902485609055 | Test Loss: 0.05638733506202698\n",
            "OrderedDict({'weights': tensor([0.5805]), 'bias': tensor([0.3499])})\n",
            "epochs\n",
            "Loss  tensor(0.0240, grad_fn=<MeanBackward0>)\n",
            "OrderedDict({'weights': tensor([0.5823]), 'bias': tensor([0.3494])})\n",
            "epochs\n",
            "Loss  tensor(0.0237, grad_fn=<MeanBackward0>)\n",
            "OrderedDict({'weights': tensor([0.5839]), 'bias': tensor([0.3484])})\n",
            "epochs\n",
            "Loss  tensor(0.0233, grad_fn=<MeanBackward0>)\n",
            "OrderedDict({'weights': tensor([0.5857]), 'bias': tensor([0.3479])})\n",
            "epochs\n",
            "Loss  tensor(0.0230, grad_fn=<MeanBackward0>)\n",
            "OrderedDict({'weights': tensor([0.5875]), 'bias': tensor([0.3474])})\n",
            "epochs\n",
            "Loss  tensor(0.0226, grad_fn=<MeanBackward0>)\n",
            "OrderedDict({'weights': tensor([0.5891]), 'bias': tensor([0.3464])})\n",
            "epochs\n",
            "Loss  tensor(0.0223, grad_fn=<MeanBackward0>)\n",
            "OrderedDict({'weights': tensor([0.5909]), 'bias': tensor([0.3459])})\n",
            "epochs\n",
            "Loss  tensor(0.0219, grad_fn=<MeanBackward0>)\n",
            "OrderedDict({'weights': tensor([0.5925]), 'bias': tensor([0.3449])})\n",
            "epochs\n",
            "Loss  tensor(0.0216, grad_fn=<MeanBackward0>)\n",
            "OrderedDict({'weights': tensor([0.5943]), 'bias': tensor([0.3444])})\n",
            "epochs\n",
            "Loss  tensor(0.0213, grad_fn=<MeanBackward0>)\n",
            "OrderedDict({'weights': tensor([0.5959]), 'bias': tensor([0.3434])})\n",
            "epochs\n",
            "Loss  tensor(0.0209, grad_fn=<MeanBackward0>)\n",
            "OrderedDict({'weights': tensor([0.5977]), 'bias': tensor([0.3429])})\n",
            "Epoch: 140 | Loss: 0.020913895219564438 | Test Loss: 0.04811479523777962\n",
            "OrderedDict({'weights': tensor([0.5977]), 'bias': tensor([0.3429])})\n",
            "epochs\n",
            "Loss  tensor(0.0206, grad_fn=<MeanBackward0>)\n",
            "OrderedDict({'weights': tensor([0.5995]), 'bias': tensor([0.3424])})\n",
            "epochs\n",
            "Loss  tensor(0.0202, grad_fn=<MeanBackward0>)\n",
            "OrderedDict({'weights': tensor([0.6011]), 'bias': tensor([0.3414])})\n",
            "epochs\n",
            "Loss  tensor(0.0199, grad_fn=<MeanBackward0>)\n",
            "OrderedDict({'weights': tensor([0.6029]), 'bias': tensor([0.3409])})\n",
            "epochs\n",
            "Loss  tensor(0.0195, grad_fn=<MeanBackward0>)\n",
            "OrderedDict({'weights': tensor([0.6045]), 'bias': tensor([0.3399])})\n",
            "epochs\n",
            "Loss  tensor(0.0192, grad_fn=<MeanBackward0>)\n",
            "OrderedDict({'weights': tensor([0.6063]), 'bias': tensor([0.3394])})\n",
            "epochs\n",
            "Loss  tensor(0.0188, grad_fn=<MeanBackward0>)\n",
            "OrderedDict({'weights': tensor([0.6079]), 'bias': tensor([0.3384])})\n",
            "epochs\n",
            "Loss  tensor(0.0185, grad_fn=<MeanBackward0>)\n",
            "OrderedDict({'weights': tensor([0.6097]), 'bias': tensor([0.3379])})\n",
            "epochs\n",
            "Loss  tensor(0.0182, grad_fn=<MeanBackward0>)\n",
            "OrderedDict({'weights': tensor([0.6112]), 'bias': tensor([0.3369])})\n",
            "epochs\n",
            "Loss  tensor(0.0178, grad_fn=<MeanBackward0>)\n",
            "OrderedDict({'weights': tensor([0.6130]), 'bias': tensor([0.3364])})\n",
            "epochs\n",
            "Loss  tensor(0.0175, grad_fn=<MeanBackward0>)\n",
            "OrderedDict({'weights': tensor([0.6148]), 'bias': tensor([0.3359])})\n",
            "Epoch: 150 | Loss: 0.017475087195634842 | Test Loss: 0.03984225541353226\n",
            "OrderedDict({'weights': tensor([0.6148]), 'bias': tensor([0.3359])})\n",
            "epochs\n",
            "Loss  tensor(0.0171, grad_fn=<MeanBackward0>)\n",
            "OrderedDict({'weights': tensor([0.6164]), 'bias': tensor([0.3349])})\n",
            "epochs\n",
            "Loss  tensor(0.0168, grad_fn=<MeanBackward0>)\n",
            "OrderedDict({'weights': tensor([0.6182]), 'bias': tensor([0.3344])})\n",
            "epochs\n",
            "Loss  tensor(0.0164, grad_fn=<MeanBackward0>)\n",
            "OrderedDict({'weights': tensor([0.6198]), 'bias': tensor([0.3334])})\n",
            "epochs\n",
            "Loss  tensor(0.0161, grad_fn=<MeanBackward0>)\n",
            "OrderedDict({'weights': tensor([0.6216]), 'bias': tensor([0.3329])})\n",
            "epochs\n",
            "Loss  tensor(0.0158, grad_fn=<MeanBackward0>)\n",
            "OrderedDict({'weights': tensor([0.6232]), 'bias': tensor([0.3319])})\n",
            "epochs\n",
            "Loss  tensor(0.0154, grad_fn=<MeanBackward0>)\n",
            "OrderedDict({'weights': tensor([0.6250]), 'bias': tensor([0.3314])})\n",
            "epochs\n",
            "Loss  tensor(0.0151, grad_fn=<MeanBackward0>)\n",
            "OrderedDict({'weights': tensor([0.6268]), 'bias': tensor([0.3309])})\n",
            "epochs\n",
            "Loss  tensor(0.0147, grad_fn=<MeanBackward0>)\n",
            "OrderedDict({'weights': tensor([0.6284]), 'bias': tensor([0.3299])})\n",
            "epochs\n",
            "Loss  tensor(0.0144, grad_fn=<MeanBackward0>)\n",
            "OrderedDict({'weights': tensor([0.6302]), 'bias': tensor([0.3294])})\n",
            "epochs\n",
            "Loss  tensor(0.0140, grad_fn=<MeanBackward0>)\n",
            "OrderedDict({'weights': tensor([0.6318]), 'bias': tensor([0.3284])})\n",
            "Epoch: 160 | Loss: 0.014042967930436134 | Test Loss: 0.0322565920650959\n",
            "OrderedDict({'weights': tensor([0.6318]), 'bias': tensor([0.3284])})\n",
            "epochs\n",
            "Loss  tensor(0.0137, grad_fn=<MeanBackward0>)\n",
            "OrderedDict({'weights': tensor([0.6336]), 'bias': tensor([0.3279])})\n",
            "epochs\n",
            "Loss  tensor(0.0134, grad_fn=<MeanBackward0>)\n",
            "OrderedDict({'weights': tensor([0.6352]), 'bias': tensor([0.3269])})\n",
            "epochs\n",
            "Loss  tensor(0.0130, grad_fn=<MeanBackward0>)\n",
            "OrderedDict({'weights': tensor([0.6370]), 'bias': tensor([0.3264])})\n",
            "epochs\n",
            "Loss  tensor(0.0127, grad_fn=<MeanBackward0>)\n",
            "OrderedDict({'weights': tensor([0.6388]), 'bias': tensor([0.3259])})\n",
            "epochs\n",
            "Loss  tensor(0.0123, grad_fn=<MeanBackward0>)\n",
            "OrderedDict({'weights': tensor([0.6404]), 'bias': tensor([0.3249])})\n",
            "epochs\n",
            "Loss  tensor(0.0120, grad_fn=<MeanBackward0>)\n",
            "OrderedDict({'weights': tensor([0.6422]), 'bias': tensor([0.3244])})\n",
            "epochs\n",
            "Loss  tensor(0.0116, grad_fn=<MeanBackward0>)\n",
            "OrderedDict({'weights': tensor([0.6438]), 'bias': tensor([0.3234])})\n",
            "epochs\n",
            "Loss  tensor(0.0113, grad_fn=<MeanBackward0>)\n",
            "OrderedDict({'weights': tensor([0.6456]), 'bias': tensor([0.3229])})\n",
            "epochs\n",
            "Loss  tensor(0.0110, grad_fn=<MeanBackward0>)\n",
            "OrderedDict({'weights': tensor([0.6472]), 'bias': tensor([0.3219])})\n",
            "epochs\n",
            "Loss  tensor(0.0106, grad_fn=<MeanBackward0>)\n",
            "OrderedDict({'weights': tensor([0.6490]), 'bias': tensor([0.3214])})\n",
            "Epoch: 170 | Loss: 0.010610274039208889 | Test Loss: 0.02398405596613884\n",
            "OrderedDict({'weights': tensor([0.6490]), 'bias': tensor([0.3214])})\n",
            "epochs\n",
            "Loss  tensor(0.0103, grad_fn=<MeanBackward0>)\n",
            "OrderedDict({'weights': tensor([0.6505]), 'bias': tensor([0.3204])})\n",
            "epochs\n",
            "Loss  tensor(0.0099, grad_fn=<MeanBackward0>)\n",
            "OrderedDict({'weights': tensor([0.6523]), 'bias': tensor([0.3199])})\n",
            "epochs\n",
            "Loss  tensor(0.0096, grad_fn=<MeanBackward0>)\n",
            "OrderedDict({'weights': tensor([0.6541]), 'bias': tensor([0.3194])})\n",
            "epochs\n",
            "Loss  tensor(0.0092, grad_fn=<MeanBackward0>)\n",
            "OrderedDict({'weights': tensor([0.6557]), 'bias': tensor([0.3184])})\n",
            "epochs\n",
            "Loss  tensor(0.0089, grad_fn=<MeanBackward0>)\n",
            "OrderedDict({'weights': tensor([0.6575]), 'bias': tensor([0.3179])})\n",
            "epochs\n",
            "Loss  tensor(0.0085, grad_fn=<MeanBackward0>)\n",
            "OrderedDict({'weights': tensor([0.6591]), 'bias': tensor([0.3169])})\n",
            "epochs\n",
            "Loss  tensor(0.0082, grad_fn=<MeanBackward0>)\n",
            "OrderedDict({'weights': tensor([0.6609]), 'bias': tensor([0.3164])})\n",
            "epochs\n",
            "Loss  tensor(0.0079, grad_fn=<MeanBackward0>)\n",
            "OrderedDict({'weights': tensor([0.6625]), 'bias': tensor([0.3154])})\n",
            "epochs\n",
            "Loss  tensor(0.0075, grad_fn=<MeanBackward0>)\n",
            "OrderedDict({'weights': tensor([0.6643]), 'bias': tensor([0.3149])})\n",
            "epochs\n",
            "Loss  tensor(0.0072, grad_fn=<MeanBackward0>)\n",
            "OrderedDict({'weights': tensor([0.6661]), 'bias': tensor([0.3144])})\n",
            "Epoch: 180 | Loss: 0.007171472068876028 | Test Loss: 0.015711510553956032\n",
            "OrderedDict({'weights': tensor([0.6661]), 'bias': tensor([0.3144])})\n",
            "epochs\n",
            "Loss  tensor(0.0068, grad_fn=<MeanBackward0>)\n",
            "OrderedDict({'weights': tensor([0.6677]), 'bias': tensor([0.3134])})\n",
            "epochs\n",
            "Loss  tensor(0.0065, grad_fn=<MeanBackward0>)\n",
            "OrderedDict({'weights': tensor([0.6695]), 'bias': tensor([0.3129])})\n",
            "epochs\n",
            "Loss  tensor(0.0061, grad_fn=<MeanBackward0>)\n",
            "OrderedDict({'weights': tensor([0.6711]), 'bias': tensor([0.3119])})\n",
            "epochs\n",
            "Loss  tensor(0.0058, grad_fn=<MeanBackward0>)\n",
            "OrderedDict({'weights': tensor([0.6729]), 'bias': tensor([0.3114])})\n",
            "epochs\n",
            "Loss  tensor(0.0055, grad_fn=<MeanBackward0>)\n",
            "OrderedDict({'weights': tensor([0.6745]), 'bias': tensor([0.3104])})\n",
            "epochs\n",
            "Loss  tensor(0.0051, grad_fn=<MeanBackward0>)\n",
            "OrderedDict({'weights': tensor([0.6763]), 'bias': tensor([0.3099])})\n",
            "epochs\n",
            "Loss  tensor(0.0048, grad_fn=<MeanBackward0>)\n",
            "OrderedDict({'weights': tensor([0.6781]), 'bias': tensor([0.3094])})\n",
            "epochs\n",
            "Loss  tensor(0.0044, grad_fn=<MeanBackward0>)\n",
            "OrderedDict({'weights': tensor([0.6797]), 'bias': tensor([0.3084])})\n",
            "epochs\n",
            "Loss  tensor(0.0041, grad_fn=<MeanBackward0>)\n",
            "OrderedDict({'weights': tensor([0.6815]), 'bias': tensor([0.3079])})\n",
            "epochs\n",
            "Loss  tensor(0.0037, grad_fn=<MeanBackward0>)\n",
            "OrderedDict({'weights': tensor([0.6831]), 'bias': tensor([0.3069])})\n",
            "Epoch: 190 | Loss: 0.003741039428859949 | Test Loss: 0.008125847205519676\n",
            "OrderedDict({'weights': tensor([0.6831]), 'bias': tensor([0.3069])})\n",
            "epochs\n",
            "Loss  tensor(0.0034, grad_fn=<MeanBackward0>)\n",
            "OrderedDict({'weights': tensor([0.6849]), 'bias': tensor([0.3064])})\n",
            "epochs\n",
            "Loss  tensor(0.0031, grad_fn=<MeanBackward0>)\n",
            "OrderedDict({'weights': tensor([0.6865]), 'bias': tensor([0.3054])})\n",
            "epochs\n",
            "Loss  tensor(0.0027, grad_fn=<MeanBackward0>)\n",
            "OrderedDict({'weights': tensor([0.6883]), 'bias': tensor([0.3049])})\n",
            "epochs\n",
            "Loss  tensor(0.0024, grad_fn=<MeanBackward0>)\n",
            "OrderedDict({'weights': tensor([0.6898]), 'bias': tensor([0.3039])})\n",
            "epochs\n",
            "Loss  tensor(0.0020, grad_fn=<MeanBackward0>)\n",
            "OrderedDict({'weights': tensor([0.6918]), 'bias': tensor([0.3039])})\n",
            "epochs\n",
            "Loss  tensor(0.0017, grad_fn=<MeanBackward0>)\n",
            "OrderedDict({'weights': tensor([0.6927]), 'bias': tensor([0.3014])})\n",
            "epochs\n",
            "Loss  tensor(0.0018, grad_fn=<MeanBackward0>)\n",
            "OrderedDict({'weights': tensor([0.6962]), 'bias': tensor([0.3064])})\n",
            "epochs\n",
            "Loss  tensor(0.0050, grad_fn=<MeanBackward0>)\n",
            "OrderedDict({'weights': tensor([0.6923]), 'bias': tensor([0.2964])})\n",
            "epochs\n",
            "Loss  tensor(0.0066, grad_fn=<MeanBackward0>)\n",
            "OrderedDict({'weights': tensor([0.6962]), 'bias': tensor([0.3064])})\n"
          ]
        }
      ]
    },
    {
      "cell_type": "markdown",
      "source": [
        "refer : https://www.learnpytorch.io/01_pytorch_workflow/"
      ],
      "metadata": {
        "id": "fNDPQEdGTJCo"
      }
    },
    {
      "cell_type": "code",
      "source": [
        "\n",
        "model_0.state_dict()"
      ],
      "metadata": {
        "id": "oHJF-t70F6NQ",
        "colab": {
          "base_uri": "https://localhost:8080/"
        },
        "outputId": "e0566dc0-0b32-4332-db52-121edf8894ef"
      },
      "execution_count": 222,
      "outputs": [
        {
          "output_type": "execute_result",
          "data": {
            "text/plain": [
              "OrderedDict([('weights', tensor([0.6962])), ('bias', tensor([0.3064]))])"
            ]
          },
          "metadata": {},
          "execution_count": 222
        }
      ]
    },
    {
      "cell_type": "markdown",
      "source": [],
      "metadata": {
        "id": "Yf6fUpg2SbMx"
      }
    },
    {
      "cell_type": "code",
      "source": [
        "with torch.inference_mode():\n",
        "  y_preds_new = model_0(X_test)"
      ],
      "metadata": {
        "id": "dhqHILjBF6Kd"
      },
      "execution_count": 223,
      "outputs": []
    },
    {
      "cell_type": "code",
      "source": [
        "plot_prediction(predictions=y_preds_new)"
      ],
      "metadata": {
        "id": "QhO53-ygF6ID",
        "colab": {
          "base_uri": "https://localhost:8080/",
          "height": 620
        },
        "outputId": "03285d57-f3ee-42d5-9333-59f398597fc4"
      },
      "execution_count": 224,
      "outputs": [
        {
          "output_type": "display_data",
          "data": {
            "text/plain": [
              "<Figure size 1000x700 with 1 Axes>"
            ],
            "image/png": "[encoded data removed]"
          },
          "metadata": {}
        }
      ]
    },
    {
      "cell_type": "code",
      "source": [
        "#### Drop Out mechanism\n",
        "\n",
        "import torch\n",
        "import torch.nn as nn\n",
        "\n",
        "dropout = nn.Dropout(p=0.5)\n",
        "\n",
        "x = torch.ones(10)  # pretend activations (all ones)\n",
        "print(x)\n",
        "# Training mode\n",
        "dropout.train()\n",
        "print(\"Training:\", dropout(x))\n",
        "\n",
        "# Evaluation mode\n",
        "dropout.eval()\n",
        "print(\"Evaluation:\", dropout(x))\n"
      ],
      "metadata": {
        "id": "K4co-znVF6Fc",
        "colab": {
          "base_uri": "https://localhost:8080/"
        },
        "outputId": "e74a7f84-72fb-47b1-f668-f5ee4cfc69f6"
      },
      "execution_count": 225,
      "outputs": [
        {
          "output_type": "stream",
          "name": "stdout",
          "text": [
            "tensor([1., 1., 1., 1., 1., 1., 1., 1., 1., 1.])\n",
            "Training: tensor([2., 2., 2., 2., 0., 2., 0., 0., 2., 2.])\n",
            "Evaluation: tensor([1., 1., 1., 1., 1., 1., 1., 1., 1., 1.])\n"
          ]
        }
      ]
    },
    {
      "cell_type": "code",
      "source": [
        "test_loss.min()"
      ],
      "metadata": {
        "id": "h99jb43QF6Cl",
        "colab": {
          "base_uri": "https://localhost:8080/"
        },
        "outputId": "8d85509c-08ab-472d-8e84-1e968094fa7d"
      },
      "execution_count": 226,
      "outputs": [
        {
          "output_type": "execute_result",
          "data": {
            "text/plain": [
              "tensor(0.0031)"
            ]
          },
          "metadata": {},
          "execution_count": 226
        }
      ]
    },
    {
      "cell_type": "code",
      "source": [],
      "metadata": {
        "id": "xgHRUK_JF6AC"
      },
      "execution_count": 226,
      "outputs": []
    },
    {
      "cell_type": "code",
      "source": [
        "import numpy as np\n",
        "\n",
        "loss_values_list=np.array(torch.tensor(loss_values).numpy())\n",
        "test_loss_values_list=test_loss_values"
      ],
      "metadata": {
        "id": "YDew0yYkF59o"
      },
      "execution_count": 227,
      "outputs": []
    },
    {
      "cell_type": "code",
      "source": [
        "plt.plot(epoch_count,loss_values_list,label=\"train_loss\")\n",
        "plt.plot(epoch_count,test_loss_values,label=\"test_loss\")\n",
        "plt.title(\"Training and test loss curves\")\n",
        "plt.ylabel(\"Loss\")\n",
        "plt.xlabel(\"Epochs\")\n",
        "plt.legend()"
      ],
      "metadata": {
        "id": "AF2CUNU4F57G",
        "colab": {
          "base_uri": "https://localhost:8080/",
          "height": 510
        },
        "outputId": "0535bd00-bc01-47e7-cf12-d288e8d5734a"
      },
      "execution_count": 228,
      "outputs": [
        {
          "output_type": "execute_result",
          "data": {
            "text/plain": [
              "<matplotlib.legend.Legend at 0x7db79d5d01a0>"
            ]
          },
          "metadata": {},
          "execution_count": 228
        },
        {
          "output_type": "display_data",
          "data": {
            "text/plain": [
              "<Figure size 640x480 with 1 Axes>"
            ],
            "image/png": "[encoded data removed]"
          },
          "metadata": {}
        }
      ]
    },
    {
      "cell_type": "code",
      "source": [
        "\n",
        "loss_values\n",
        "##test_loss_values"
      ],
      "metadata": {
        "id": "uGH_Jre8F54r",
        "colab": {
          "base_uri": "https://localhost:8080/"
        },
        "outputId": "c4d275a4-725d-4ab7-a8c9-a63b14d35b30"
      },
      "execution_count": 229,
      "outputs": [
        {
          "output_type": "execute_result",
          "data": {
            "text/plain": [
              "[tensor(0.0817, grad_fn=<MeanBackward0>),\n",
              " tensor(0.0681, grad_fn=<MeanBackward0>),\n",
              " tensor(0.0626, grad_fn=<MeanBackward0>),\n",
              " tensor(0.0588, grad_fn=<MeanBackward0>),\n",
              " tensor(0.0553, grad_fn=<MeanBackward0>),\n",
              " tensor(0.0518, grad_fn=<MeanBackward0>),\n",
              " tensor(0.0484, grad_fn=<MeanBackward0>),\n",
              " tensor(0.0449, grad_fn=<MeanBackward0>),\n",
              " tensor(0.0415, grad_fn=<MeanBackward0>),\n",
              " tensor(0.0381, grad_fn=<MeanBackward0>),\n",
              " tensor(0.0346, grad_fn=<MeanBackward0>),\n",
              " tensor(0.0312, grad_fn=<MeanBackward0>),\n",
              " tensor(0.0278, grad_fn=<MeanBackward0>),\n",
              " tensor(0.0243, grad_fn=<MeanBackward0>),\n",
              " tensor(0.0209, grad_fn=<MeanBackward0>),\n",
              " tensor(0.0175, grad_fn=<MeanBackward0>),\n",
              " tensor(0.0140, grad_fn=<MeanBackward0>),\n",
              " tensor(0.0106, grad_fn=<MeanBackward0>),\n",
              " tensor(0.0072, grad_fn=<MeanBackward0>),\n",
              " tensor(0.0037, grad_fn=<MeanBackward0>)]"
            ]
          },
          "metadata": {},
          "execution_count": 229
        }
      ]
    },
    {
      "cell_type": "code",
      "source": [],
      "metadata": {
        "id": "1bSnsu2EF510"
      },
      "execution_count": 229,
      "outputs": []
    },
    {
      "cell_type": "code",
      "source": [],
      "metadata": {
        "id": "jHlNzKW-F5zR"
      },
      "execution_count": 229,
      "outputs": []
    },
    {
      "cell_type": "code",
      "source": [],
      "metadata": {
        "id": "Yf_6QFPqF5w5"
      },
      "execution_count": 229,
      "outputs": []
    },
    {
      "cell_type": "code",
      "source": [],
      "metadata": {
        "id": "ncqxzy2pF5uA"
      },
      "execution_count": 229,
      "outputs": []
    },
    {
      "cell_type": "code",
      "source": [],
      "metadata": {
        "id": "e9XojceaF5rb"
      },
      "execution_count": 229,
      "outputs": []
    },
    {
      "cell_type": "code",
      "source": [],
      "metadata": {
        "id": "J45CUMw_F5jd"
      },
      "execution_count": 229,
      "outputs": []
    },
    {
      "cell_type": "code",
      "execution_count": 230,
      "metadata": {
        "id": "4JJE_HwPQGkV",
        "colab": {
          "base_uri": "https://localhost:8080/"
        },
        "outputId": "c96dd171-45ac-4e44-f420-526a33d9388f"
      },
      "outputs": [
        {
          "output_type": "execute_result",
          "data": {
            "text/plain": [
              "LinearModel()"
            ]
          },
          "metadata": {},
          "execution_count": 230
        }
      ],
      "source": []
    },
    {
      "cell_type": "code",
      "source": [],
      "metadata": {
        "id": "NYLNTveXWn4b"
      },
      "execution_count": null,
      "outputs": []
    }
  ]
}