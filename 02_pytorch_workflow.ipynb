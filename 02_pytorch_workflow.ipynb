{
  "nbformat": 4,
  "nbformat_minor": 0,
  "metadata": {
    "colab": {
      "provenance": [],
      "gpuType": "T4",
      "authorship_tag": "ABX9TyM3h04VBKT2jjl/OL7PaVL0",
      "include_colab_link": true
    },
    "kernelspec": {
      "name": "python3",
      "display_name": "Python 3"
    },
    "language_info": {
      "name": "python"
    },
    "accelerator": "GPU"
  },
  "cells": [
    {
      "cell_type": "markdown",
      "metadata": {
        "id": "view-in-github",
        "colab_type": "text"
      },
      "source": [
        "<a href=\"https://colab.research.google.com/github/Rajaanthonysamy/PyTorch/blob/main/02_pytorch_workflow.ipynb\" target=\"_parent\"><img src=\"https://colab.research.google.com/assets/colab-badge.svg\" alt=\"Open In Colab\"/></a>"
      ]
    },
    {
      "cell_type": "markdown",
      "source": [
        "# PyTorch Workflow end-to-end"
      ],
      "metadata": {
        "id": "A9l3YmMkQzH_"
      }
    },
    {
      "cell_type": "code",
      "source": [
        "import torch\n",
        "from torch import nn ## nn contains all workflow of the pytorch building block neural network"
      ],
      "metadata": {
        "id": "QcradVB2Qyro"
      },
      "execution_count": 2,
      "outputs": []
    },
    {
      "cell_type": "code",
      "source": [
        "import matplotlib.pyplot as plt"
      ],
      "metadata": {
        "id": "Z8BkXlbiQ8rv"
      },
      "execution_count": 3,
      "outputs": []
    },
    {
      "cell_type": "code",
      "source": [
        "torch.__version__"
      ],
      "metadata": {
        "colab": {
          "base_uri": "https://localhost:8080/",
          "height": 56
        },
        "id": "0p6EJ8rBQ8pV",
        "outputId": "b170e9ed-1e45-41e6-b790-0c6169f5d0a1"
      },
      "execution_count": 4,
      "outputs": [
        {
          "output_type": "execute_result",
          "data": {
            "text/plain": [
              "'2.8.0+cu126'"
            ],
            "application/vnd.google.colaboratory.intrinsic+json": {
              "type": "string"
            }
          },
          "metadata": {},
          "execution_count": 4
        }
      ]
    },
    {
      "cell_type": "markdown",
      "source": [
        "Data Preparing and loading\n",
        "\n",
        "data can be anything in machine learning\n"
      ],
      "metadata": {
        "id": "dGOnSD6cSI9s"
      }
    },
    {
      "cell_type": "code",
      "source": [
        "weight = 0.7\n",
        "bias = 0.3\n",
        "\n",
        "start = 0\n",
        "end = 1\n",
        "step = 0.02\n",
        "X = torch.arange(start, end, step).unsqueeze(dim=1)\n",
        "y = weight * X + bias\n",
        "\n"
      ],
      "metadata": {
        "id": "Mz4i-EUvQ8mu"
      },
      "execution_count": 5,
      "outputs": []
    },
    {
      "cell_type": "markdown",
      "source": [
        "## SPlit data train test"
      ],
      "metadata": {
        "id": "KgVQErrWVcFm"
      }
    },
    {
      "cell_type": "code",
      "source": [
        "X.size()"
      ],
      "metadata": {
        "colab": {
          "base_uri": "https://localhost:8080/"
        },
        "id": "hVonXSscQ8j7",
        "outputId": "26faad89-9d40-4e22-d366-c916d51d3c5c"
      },
      "execution_count": 6,
      "outputs": [
        {
          "output_type": "execute_result",
          "data": {
            "text/plain": [
              "torch.Size([50, 1])"
            ]
          },
          "metadata": {},
          "execution_count": 6
        }
      ]
    },
    {
      "cell_type": "code",
      "source": [
        "train_split = int(0.8 * len(X))\n",
        "X_train, y_train = X[:train_split], y[:train_split]\n",
        "X_test, y_test = X[train_split:], y[train_split:]"
      ],
      "metadata": {
        "id": "umCzraZcQ8hR"
      },
      "execution_count": 7,
      "outputs": []
    },
    {
      "cell_type": "code",
      "source": [
        "train_split"
      ],
      "metadata": {
        "colab": {
          "base_uri": "https://localhost:8080/"
        },
        "id": "-mgcXFIKQ8ep",
        "outputId": "180263d6-ff0d-4875-8257-06a25fc2ff45"
      },
      "execution_count": 8,
      "outputs": [
        {
          "output_type": "execute_result",
          "data": {
            "text/plain": [
              "40"
            ]
          },
          "metadata": {},
          "execution_count": 8
        }
      ]
    },
    {
      "cell_type": "code",
      "source": [
        "plt.figure(figsize=(10,7))\n",
        "plt.scatter(X_train, y_train, c=\"b\", s=10, label=\"training data\")\n",
        "plt.scatter(X_test, y_test, c=\"g\", s=4, label=\"testing data\")"
      ],
      "metadata": {
        "colab": {
          "base_uri": "https://localhost:8080/",
          "height": 637
        },
        "id": "MgKptb5gQ8cH",
        "outputId": "ace2a704-5b2c-4700-af71-67cdd6d64275"
      },
      "execution_count": 9,
      "outputs": [
        {
          "output_type": "execute_result",
          "data": {
            "text/plain": [
              "<matplotlib.collections.PathCollection at 0x7941aaafc4a0>"
            ]
          },
          "metadata": {},
          "execution_count": 9
        },
        {
          "output_type": "display_data",
          "data": {
            "text/plain": [
              "<Figure size 1000x700 with 1 Axes>"
            ],
            "image/png": "[encoded data removed]"
          },
          "metadata": {}
        }
      ]
    },
    {
      "cell_type": "code",
      "source": [
        "def plot_prediction(train_data= X_train , train_labels=y_train , test_data=X_test , test_labels=y_test , predictions=None):\n",
        "  \"\"\"Plots training data , test data and compares predictions\"\"\"\n",
        "  plt.figure(figsize=(10,7))\n",
        "  plt.scatter(train_data, train_labels, c=\"b\", s=4, label=\"training data\")\n",
        "  plt.scatter(test_data, test_labels, c=\"g\", s=4, label=\"testing data\")\n",
        "\n",
        "  if predictions is not None:\n",
        "    plt.scatter(test_data, predictions, c=\"r\", s=4, label=\"predictions\")\n",
        "\n",
        "  plt.legend(prop={\"size\":14})"
      ],
      "metadata": {
        "id": "unjwB3ZTQ8Zt"
      },
      "execution_count": 10,
      "outputs": []
    },
    {
      "cell_type": "code",
      "source": [
        "pred=torch.rand(10,1)"
      ],
      "metadata": {
        "id": "Ir5yGfsZQ8W5"
      },
      "execution_count": 11,
      "outputs": []
    },
    {
      "cell_type": "code",
      "source": [
        "pred.size()"
      ],
      "metadata": {
        "colab": {
          "base_uri": "https://localhost:8080/"
        },
        "id": "pdkP6z_nQ8UP",
        "outputId": "05ef2734-2588-40e1-e0ae-d180d3eb8d1c"
      },
      "execution_count": 12,
      "outputs": [
        {
          "output_type": "execute_result",
          "data": {
            "text/plain": [
              "torch.Size([10, 1])"
            ]
          },
          "metadata": {},
          "execution_count": 12
        }
      ]
    },
    {
      "cell_type": "code",
      "source": [
        "pred"
      ],
      "metadata": {
        "colab": {
          "base_uri": "https://localhost:8080/"
        },
        "id": "Y9lQrivLbkdm",
        "outputId": "42fe2e68-2b20-46b4-9a1e-0a1e891cec75"
      },
      "execution_count": 13,
      "outputs": [
        {
          "output_type": "execute_result",
          "data": {
            "text/plain": [
              "tensor([[0.3722],\n",
              "        [0.0031],\n",
              "        [0.2986],\n",
              "        [0.6557],\n",
              "        [0.2398],\n",
              "        [0.1414],\n",
              "        [0.6800],\n",
              "        [0.1193],\n",
              "        [0.4677],\n",
              "        [0.7335]])"
            ]
          },
          "metadata": {},
          "execution_count": 13
        }
      ]
    },
    {
      "cell_type": "code",
      "source": [
        "X_test.size()"
      ],
      "metadata": {
        "colab": {
          "base_uri": "https://localhost:8080/"
        },
        "id": "IqClsbJyQ8RY",
        "outputId": "c572c4f4-358c-4847-95e0-b5b2aba6480e"
      },
      "execution_count": 14,
      "outputs": [
        {
          "output_type": "execute_result",
          "data": {
            "text/plain": [
              "torch.Size([10, 1])"
            ]
          },
          "metadata": {},
          "execution_count": 14
        }
      ]
    },
    {
      "cell_type": "code",
      "source": [
        "pred.size()"
      ],
      "metadata": {
        "colab": {
          "base_uri": "https://localhost:8080/"
        },
        "id": "geAgdfzUQ8Ok",
        "outputId": "336a8ad8-bf71-4552-9ad0-dbc9f892ad4b"
      },
      "execution_count": 15,
      "outputs": [
        {
          "output_type": "execute_result",
          "data": {
            "text/plain": [
              "torch.Size([10, 1])"
            ]
          },
          "metadata": {},
          "execution_count": 15
        }
      ]
    },
    {
      "cell_type": "code",
      "source": [
        "plot_prediction(predictions=pred)"
      ],
      "metadata": {
        "colab": {
          "base_uri": "https://localhost:8080/",
          "height": 620
        },
        "id": "yd-g3Ez9Q8MK",
        "outputId": "f6a36ee4-d671-4fd1-d26a-4b2ff354fac6"
      },
      "execution_count": 16,
      "outputs": [
        {
          "output_type": "display_data",
          "data": {
            "text/plain": [
              "<Figure size 1000x700 with 1 Axes>"
            ],
            "image/png": "[encoded data removed]"
          },
          "metadata": {}
        }
      ]
    },
    {
      "cell_type": "code",
      "source": [
        "pred= torch.arange(0,1,0.1)"
      ],
      "metadata": {
        "id": "deqW_s1KQ8J0"
      },
      "execution_count": 17,
      "outputs": []
    },
    {
      "cell_type": "code",
      "source": [
        "pred"
      ],
      "metadata": {
        "colab": {
          "base_uri": "https://localhost:8080/"
        },
        "id": "WV8VJmxGccck",
        "outputId": "e4c6271d-94ee-46a2-cd7d-242a3752af57"
      },
      "execution_count": 18,
      "outputs": [
        {
          "output_type": "execute_result",
          "data": {
            "text/plain": [
              "tensor([0.0000, 0.1000, 0.2000, 0.3000, 0.4000, 0.5000, 0.6000, 0.7000, 0.8000,\n",
              "        0.9000])"
            ]
          },
          "metadata": {},
          "execution_count": 18
        }
      ]
    },
    {
      "cell_type": "code",
      "source": [
        "pred=pred * weight + bias"
      ],
      "metadata": {
        "id": "J2f_w4CoQ8HR"
      },
      "execution_count": 19,
      "outputs": []
    },
    {
      "cell_type": "code",
      "source": [
        "pred"
      ],
      "metadata": {
        "colab": {
          "base_uri": "https://localhost:8080/"
        },
        "id": "6O45mVXdQ8E4",
        "outputId": "3ae1386a-8797-4376-8c6e-770551f15aa6"
      },
      "execution_count": 20,
      "outputs": [
        {
          "output_type": "execute_result",
          "data": {
            "text/plain": [
              "tensor([0.3000, 0.3700, 0.4400, 0.5100, 0.5800, 0.6500, 0.7200, 0.7900, 0.8600,\n",
              "        0.9300])"
            ]
          },
          "metadata": {},
          "execution_count": 20
        }
      ]
    },
    {
      "cell_type": "code",
      "source": [
        "plot_prediction(predictions=pred)"
      ],
      "metadata": {
        "colab": {
          "base_uri": "https://localhost:8080/",
          "height": 620
        },
        "id": "F0o4nP-0Q8CV",
        "outputId": "f3eef528-1d51-4cda-f443-28c68066b209"
      },
      "execution_count": 21,
      "outputs": [
        {
          "output_type": "display_data",
          "data": {
            "text/plain": [
              "<Figure size 1000x700 with 1 Axes>"
            ],
            "image/png": "[encoded data removed]"
          },
          "metadata": {}
        }
      ]
    },
    {
      "cell_type": "markdown",
      "source": [
        "## Build Linear model"
      ],
      "metadata": {
        "id": "TxRR2ptMdNU_"
      }
    },
    {
      "cell_type": "code",
      "source": [
        "class LinearModel(nn.Module):\n",
        "  def __init__(self):\n",
        "    super().__init__()\n",
        "    self.weights= nn.Parameter(torch.randn(\n",
        "        1,requires_grad=True, dtype=torch.float\n",
        "    ))\n",
        "    self.bias= nn.praameter(torch.rand(\n",
        "        1,  requires_grad=True, dtype=torch.float\n",
        "    ))\n",
        "\n",
        "### forward method define the computation in the model\n",
        "  def forward(self,x:torch.Tensor) -> torch.Tensor:\n",
        "    return self.weights * x + self.bias\n",
        "\n",
        "  def backpropagation(self):\n",
        "    pass"
      ],
      "metadata": {
        "id": "1Z7j-aCrQ7_7"
      },
      "execution_count": 23,
      "outputs": []
    },
    {
      "cell_type": "code",
      "source": [],
      "metadata": {
        "colab": {
          "base_uri": "https://localhost:8080/"
        },
        "id": "jPJOyjSZQ79l",
        "outputId": "9594b250-ece4-438d-c93a-e70741bbb528"
      },
      "execution_count": 25,
      "outputs": [
        {
          "output_type": "execute_result",
          "data": {
            "text/plain": [
              "tensor([[ 1.4300, -1.8369, -0.1018,  0.0202,  0.5126]])"
            ]
          },
          "metadata": {},
          "execution_count": 25
        }
      ]
    },
    {
      "cell_type": "code",
      "source": [],
      "metadata": {
        "id": "aEe9RWUfQ76w"
      },
      "execution_count": 22,
      "outputs": []
    },
    {
      "cell_type": "code",
      "source": [],
      "metadata": {
        "id": "63p8jOEmQ73h"
      },
      "execution_count": 22,
      "outputs": []
    },
    {
      "cell_type": "code",
      "source": [],
      "metadata": {
        "id": "npqFHPPFQ7vV"
      },
      "execution_count": 22,
      "outputs": []
    },
    {
      "cell_type": "code",
      "execution_count": 22,
      "metadata": {
        "id": "4JJE_HwPQGkV"
      },
      "outputs": [],
      "source": []
    }
  ]
}